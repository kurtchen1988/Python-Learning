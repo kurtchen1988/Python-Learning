{
 "cells": [
  {
   "cell_type": "code",
   "execution_count": 54,
   "metadata": {},
   "outputs": [],
   "source": [
    "import pandas as pd\n",
    "import numpy as np\n",
    "import matplotlib.pyplot as plt\n",
    "plt.rc('font',**{'family':'Microsoft YaHei, SimHei'})"
   ]
  },
  {
   "cell_type": "code",
   "execution_count": 2,
   "metadata": {},
   "outputs": [],
   "source": [
    "df = pd.read_excel('books.xlsx')"
   ]
  },
  {
   "cell_type": "code",
   "execution_count": 3,
   "metadata": {},
   "outputs": [
    {
     "data": {
      "text/html": [
       "<div>\n",
       "<style scoped>\n",
       "    .dataframe tbody tr th:only-of-type {\n",
       "        vertical-align: middle;\n",
       "    }\n",
       "\n",
       "    .dataframe tbody tr th {\n",
       "        vertical-align: top;\n",
       "    }\n",
       "\n",
       "    .dataframe thead th {\n",
       "        text-align: right;\n",
       "    }\n",
       "</style>\n",
       "<table border=\"1\" class=\"dataframe\">\n",
       "  <thead>\n",
       "    <tr style=\"text-align: right;\">\n",
       "      <th></th>\n",
       "      <th>书名</th>\n",
       "      <th>作者</th>\n",
       "      <th>出版社</th>\n",
       "      <th>出版时间</th>\n",
       "      <th>页数</th>\n",
       "      <th>价格</th>\n",
       "      <th>ISBN</th>\n",
       "      <th>评分</th>\n",
       "      <th>评论数量</th>\n",
       "      <th>Unnamed: 9</th>\n",
       "    </tr>\n",
       "  </thead>\n",
       "  <tbody>\n",
       "    <tr>\n",
       "      <th>0</th>\n",
       "      <td>因扎吉传记 SUPERPIPPO</td>\n",
       "      <td>Mauro Suma</td>\n",
       "      <td>ECO Sport</td>\n",
       "      <td>2008/</td>\n",
       "      <td>224</td>\n",
       "      <td>O 14.5</td>\n",
       "      <td>9788881133581</td>\n",
       "      <td>9.4</td>\n",
       "      <td>69</td>\n",
       "      <td>NaN</td>\n",
       "    </tr>\n",
       "    <tr>\n",
       "      <th>1</th>\n",
       "      <td>中国武侠小说史论</td>\n",
       "      <td>叶洪生</td>\n",
       "      <td>None</td>\n",
       "      <td>1905-03-14 00:00:00</td>\n",
       "      <td>None</td>\n",
       "      <td>None</td>\n",
       "      <td>9787811074710</td>\n",
       "      <td>0.0</td>\n",
       "      <td>None</td>\n",
       "      <td>NaN</td>\n",
       "    </tr>\n",
       "    <tr>\n",
       "      <th>2</th>\n",
       "      <td>How to cook and eat in Chinese</td>\n",
       "      <td>杨步伟</td>\n",
       "      <td>The John Day company</td>\n",
       "      <td>1905-04-28 00:00:00</td>\n",
       "      <td>262</td>\n",
       "      <td>None</td>\n",
       "      <td>9780394717036</td>\n",
       "      <td>0.0</td>\n",
       "      <td>None</td>\n",
       "      <td>NaN</td>\n",
       "    </tr>\n",
       "    <tr>\n",
       "      <th>3</th>\n",
       "      <td>吐鲁番考古记</td>\n",
       "      <td>黄文弼</td>\n",
       "      <td>中国科学院出版社</td>\n",
       "      <td>1905-05-07 00:00:00</td>\n",
       "      <td>208</td>\n",
       "      <td>None</td>\n",
       "      <td>None</td>\n",
       "      <td>0.0</td>\n",
       "      <td>None</td>\n",
       "      <td>NaN</td>\n",
       "    </tr>\n",
       "    <tr>\n",
       "      <th>4</th>\n",
       "      <td>塞瓦斯托波尔故事</td>\n",
       "      <td>列夫·托尔斯泰</td>\n",
       "      <td>新文艺出版社</td>\n",
       "      <td>1905-05-08 00:00:00</td>\n",
       "      <td>172</td>\n",
       "      <td>None</td>\n",
       "      <td>None</td>\n",
       "      <td>0.0</td>\n",
       "      <td>None</td>\n",
       "      <td>NaN</td>\n",
       "    </tr>\n",
       "  </tbody>\n",
       "</table>\n",
       "</div>"
      ],
      "text/plain": [
       "                               书名          作者                    出版社  \\\n",
       "0                因扎吉传记 SUPERPIPPO  Mauro Suma              ECO Sport   \n",
       "1                        中国武侠小说史论         叶洪生                   None   \n",
       "2  How to cook and eat in Chinese         杨步伟   The John Day company   \n",
       "3                          吐鲁番考古记         黄文弼               中国科学院出版社   \n",
       "4                        塞瓦斯托波尔故事     列夫·托尔斯泰                 新文艺出版社   \n",
       "\n",
       "                  出版时间    页数      价格           ISBN   评分  评论数量 Unnamed: 9  \n",
       "0                2008/   224  O 14.5  9788881133581  9.4    69        NaN  \n",
       "1  1905-03-14 00:00:00  None    None  9787811074710  0.0  None        NaN  \n",
       "2  1905-04-28 00:00:00   262    None  9780394717036  0.0  None        NaN  \n",
       "3  1905-05-07 00:00:00   208    None           None  0.0  None        NaN  \n",
       "4  1905-05-08 00:00:00   172    None           None  0.0  None        NaN  "
      ]
     },
     "execution_count": 3,
     "metadata": {},
     "output_type": "execute_result"
    }
   ],
   "source": [
    "df.head()"
   ]
  },
  {
   "cell_type": "code",
   "execution_count": 4,
   "metadata": {},
   "outputs": [
    {
     "data": {
      "text/plain": [
       "(60671, 10)"
      ]
     },
     "execution_count": 4,
     "metadata": {},
     "output_type": "execute_result"
    }
   ],
   "source": [
    "df.shape"
   ]
  },
  {
   "cell_type": "code",
   "execution_count": 5,
   "metadata": {},
   "outputs": [
    {
     "data": {
      "text/plain": [
       "书名             object\n",
       "作者             object\n",
       "出版社            object\n",
       "出版时间           object\n",
       "页数             object\n",
       "价格             object\n",
       "ISBN           object\n",
       "评分            float64\n",
       "评论数量           object\n",
       "Unnamed: 9     object\n",
       "dtype: object"
      ]
     },
     "execution_count": 5,
     "metadata": {},
     "output_type": "execute_result"
    }
   ],
   "source": [
    "df.dtypes"
   ]
  },
  {
   "cell_type": "code",
   "execution_count": 6,
   "metadata": {},
   "outputs": [
    {
     "data": {
      "text/plain": [
       "count     60671\n",
       "unique     2109\n",
       "top        None\n",
       "freq       4267\n",
       "Name: 页数, dtype: object"
      ]
     },
     "execution_count": 6,
     "metadata": {},
     "output_type": "execute_result"
    }
   ],
   "source": [
    "df['页数'].describe()"
   ]
  },
  {
   "cell_type": "code",
   "execution_count": 7,
   "metadata": {},
   "outputs": [
    {
     "data": {
      "text/plain": [
       "0"
      ]
     },
     "execution_count": 7,
     "metadata": {},
     "output_type": "execute_result"
    }
   ],
   "source": [
    "df['页数'].isnull().sum()"
   ]
  },
  {
   "cell_type": "code",
   "execution_count": 8,
   "metadata": {},
   "outputs": [
    {
     "data": {
      "text/plain": [
       "4267"
      ]
     },
     "execution_count": 8,
     "metadata": {},
     "output_type": "execute_result"
    }
   ],
   "source": [
    "len(df[df['页数']=='None'])"
   ]
  },
  {
   "cell_type": "code",
   "execution_count": 9,
   "metadata": {},
   "outputs": [],
   "source": [
    "import re\n",
    "def convert_to_int(x):\n",
    "    if re.match('^\\d+$',str(x)):\n",
    "        return x\n",
    "    else:\n",
    "        return 0"
   ]
  },
  {
   "cell_type": "code",
   "execution_count": 10,
   "metadata": {},
   "outputs": [
    {
     "data": {
      "text/plain": [
       "0         224\n",
       "1           0\n",
       "2         262\n",
       "3         208\n",
       "4         172\n",
       "5         922\n",
       "6          96\n",
       "7         148\n",
       "8           0\n",
       "9         182\n",
       "10          0\n",
       "11        169\n",
       "12          0\n",
       "13        156\n",
       "14        225\n",
       "15        246\n",
       "16         68\n",
       "17          0\n",
       "18          0\n",
       "19          0\n",
       "20        110\n",
       "21        296\n",
       "22          0\n",
       "23        238\n",
       "24          0\n",
       "25        326\n",
       "26        111\n",
       "27        248\n",
       "28       2890\n",
       "29        637\n",
       "         ... \n",
       "60641      60\n",
       "60642      95\n",
       "60643      86\n",
       "60644      62\n",
       "60645      86\n",
       "60646      66\n",
       "60647      94\n",
       "60648      96\n",
       "60649      17\n",
       "60650      82\n",
       "60651      80\n",
       "60652      40\n",
       "60653     115\n",
       "60654       0\n",
       "60655      30\n",
       "60656      28\n",
       "60657       0\n",
       "60658    1335\n",
       "60659     337\n",
       "60660     687\n",
       "60661     522\n",
       "60662     123\n",
       "60663      82\n",
       "60664    2502\n",
       "60665       0\n",
       "60666       0\n",
       "60667     125\n",
       "60668     531\n",
       "60669     260\n",
       "60670     200\n",
       "Name: 页数, Length: 60671, dtype: int64"
      ]
     },
     "execution_count": 10,
     "metadata": {},
     "output_type": "execute_result"
    }
   ],
   "source": [
    "df['页数'].apply(convert_to_int)"
   ]
  },
  {
   "cell_type": "code",
   "execution_count": 11,
   "metadata": {},
   "outputs": [],
   "source": [
    "df['页数'] = df['页数'].apply(lambda x: x if re.match('^\\d+$', str(x)) else 0)"
   ]
  },
  {
   "cell_type": "code",
   "execution_count": 12,
   "metadata": {},
   "outputs": [],
   "source": [
    "df['页数'] = df['页数'].astype(int)"
   ]
  },
  {
   "cell_type": "code",
   "execution_count": 13,
   "metadata": {},
   "outputs": [
    {
     "data": {
      "text/plain": [
       "书名             object\n",
       "作者             object\n",
       "出版社            object\n",
       "出版时间           object\n",
       "页数              int32\n",
       "价格             object\n",
       "ISBN           object\n",
       "评分            float64\n",
       "评论数量           object\n",
       "Unnamed: 9     object\n",
       "dtype: object"
      ]
     },
     "execution_count": 13,
     "metadata": {},
     "output_type": "execute_result"
    }
   ],
   "source": [
    "df.dtypes"
   ]
  },
  {
   "cell_type": "code",
   "execution_count": 14,
   "metadata": {},
   "outputs": [],
   "source": [
    "df['价格'] = df['价格'].apply(lambda x: x if re.match('^[\\d\\.]+$', str(x)) else 0)\n",
    "df['价格'] = df['价格'].astype(float)"
   ]
  },
  {
   "cell_type": "code",
   "execution_count": 15,
   "metadata": {},
   "outputs": [
    {
     "data": {
      "text/plain": [
       "书名             object\n",
       "作者             object\n",
       "出版社            object\n",
       "出版时间           object\n",
       "页数              int32\n",
       "价格            float64\n",
       "ISBN           object\n",
       "评分            float64\n",
       "评论数量           object\n",
       "Unnamed: 9     object\n",
       "dtype: object"
      ]
     },
     "execution_count": 15,
     "metadata": {},
     "output_type": "execute_result"
    }
   ],
   "source": [
    "df.dtypes"
   ]
  },
  {
   "cell_type": "code",
   "execution_count": 16,
   "metadata": {},
   "outputs": [],
   "source": [
    "df['评论数量'] = df['评论数量'].apply(lambda x: x if re.match('^\\d+$', str(x)) else 0)\n",
    "df['评论数量'] = df['评论数量'].astype(float)"
   ]
  },
  {
   "cell_type": "code",
   "execution_count": 17,
   "metadata": {},
   "outputs": [
    {
     "data": {
      "text/html": [
       "<div>\n",
       "<style scoped>\n",
       "    .dataframe tbody tr th:only-of-type {\n",
       "        vertical-align: middle;\n",
       "    }\n",
       "\n",
       "    .dataframe tbody tr th {\n",
       "        vertical-align: top;\n",
       "    }\n",
       "\n",
       "    .dataframe thead th {\n",
       "        text-align: right;\n",
       "    }\n",
       "</style>\n",
       "<table border=\"1\" class=\"dataframe\">\n",
       "  <thead>\n",
       "    <tr style=\"text-align: right;\">\n",
       "      <th></th>\n",
       "      <th>书名</th>\n",
       "      <th>作者</th>\n",
       "      <th>出版社</th>\n",
       "      <th>出版时间</th>\n",
       "      <th>页数</th>\n",
       "      <th>价格</th>\n",
       "      <th>ISBN</th>\n",
       "      <th>评分</th>\n",
       "      <th>评论数量</th>\n",
       "      <th>Unnamed: 9</th>\n",
       "    </tr>\n",
       "  </thead>\n",
       "  <tbody>\n",
       "    <tr>\n",
       "      <th>0</th>\n",
       "      <td>因扎吉传记 SUPERPIPPO</td>\n",
       "      <td>Mauro Suma</td>\n",
       "      <td>ECO Sport</td>\n",
       "      <td>2008/</td>\n",
       "      <td>224</td>\n",
       "      <td>0.0</td>\n",
       "      <td>9788881133581</td>\n",
       "      <td>9.4</td>\n",
       "      <td>69.0</td>\n",
       "      <td>NaN</td>\n",
       "    </tr>\n",
       "    <tr>\n",
       "      <th>1</th>\n",
       "      <td>中国武侠小说史论</td>\n",
       "      <td>叶洪生</td>\n",
       "      <td>None</td>\n",
       "      <td>1905-03-14 00:00:00</td>\n",
       "      <td>0</td>\n",
       "      <td>0.0</td>\n",
       "      <td>9787811074710</td>\n",
       "      <td>0.0</td>\n",
       "      <td>0.0</td>\n",
       "      <td>NaN</td>\n",
       "    </tr>\n",
       "    <tr>\n",
       "      <th>2</th>\n",
       "      <td>How to cook and eat in Chinese</td>\n",
       "      <td>杨步伟</td>\n",
       "      <td>The John Day company</td>\n",
       "      <td>1905-04-28 00:00:00</td>\n",
       "      <td>262</td>\n",
       "      <td>0.0</td>\n",
       "      <td>9780394717036</td>\n",
       "      <td>0.0</td>\n",
       "      <td>0.0</td>\n",
       "      <td>NaN</td>\n",
       "    </tr>\n",
       "    <tr>\n",
       "      <th>3</th>\n",
       "      <td>吐鲁番考古记</td>\n",
       "      <td>黄文弼</td>\n",
       "      <td>中国科学院出版社</td>\n",
       "      <td>1905-05-07 00:00:00</td>\n",
       "      <td>208</td>\n",
       "      <td>0.0</td>\n",
       "      <td>None</td>\n",
       "      <td>0.0</td>\n",
       "      <td>0.0</td>\n",
       "      <td>NaN</td>\n",
       "    </tr>\n",
       "    <tr>\n",
       "      <th>4</th>\n",
       "      <td>塞瓦斯托波尔故事</td>\n",
       "      <td>列夫·托尔斯泰</td>\n",
       "      <td>新文艺出版社</td>\n",
       "      <td>1905-05-08 00:00:00</td>\n",
       "      <td>172</td>\n",
       "      <td>0.0</td>\n",
       "      <td>None</td>\n",
       "      <td>0.0</td>\n",
       "      <td>0.0</td>\n",
       "      <td>NaN</td>\n",
       "    </tr>\n",
       "  </tbody>\n",
       "</table>\n",
       "</div>"
      ],
      "text/plain": [
       "                               书名          作者                    出版社  \\\n",
       "0                因扎吉传记 SUPERPIPPO  Mauro Suma              ECO Sport   \n",
       "1                        中国武侠小说史论         叶洪生                   None   \n",
       "2  How to cook and eat in Chinese         杨步伟   The John Day company   \n",
       "3                          吐鲁番考古记         黄文弼               中国科学院出版社   \n",
       "4                        塞瓦斯托波尔故事     列夫·托尔斯泰                 新文艺出版社   \n",
       "\n",
       "                  出版时间   页数   价格           ISBN   评分  评论数量 Unnamed: 9  \n",
       "0                2008/  224  0.0  9788881133581  9.4  69.0        NaN  \n",
       "1  1905-03-14 00:00:00    0  0.0  9787811074710  0.0   0.0        NaN  \n",
       "2  1905-04-28 00:00:00  262  0.0  9780394717036  0.0   0.0        NaN  \n",
       "3  1905-05-07 00:00:00  208  0.0           None  0.0   0.0        NaN  \n",
       "4  1905-05-08 00:00:00  172  0.0           None  0.0   0.0        NaN  "
      ]
     },
     "execution_count": 17,
     "metadata": {},
     "output_type": "execute_result"
    }
   ],
   "source": [
    "df.head()"
   ]
  },
  {
   "cell_type": "code",
   "execution_count": 18,
   "metadata": {},
   "outputs": [
    {
     "data": {
      "text/plain": [
       "Index(['书名', '作者', '出版社', '出版时间', '页数', '价格', 'ISBN', '评分', '评论数量'], dtype='object')"
      ]
     },
     "execution_count": 18,
     "metadata": {},
     "output_type": "execute_result"
    }
   ],
   "source": [
    "df.columns[:-1]"
   ]
  },
  {
   "cell_type": "code",
   "execution_count": 19,
   "metadata": {},
   "outputs": [],
   "source": [
    "df = df[df.columns[:-1]]"
   ]
  },
  {
   "cell_type": "code",
   "execution_count": 20,
   "metadata": {},
   "outputs": [
    {
     "data": {
      "text/html": [
       "<div>\n",
       "<style scoped>\n",
       "    .dataframe tbody tr th:only-of-type {\n",
       "        vertical-align: middle;\n",
       "    }\n",
       "\n",
       "    .dataframe tbody tr th {\n",
       "        vertical-align: top;\n",
       "    }\n",
       "\n",
       "    .dataframe thead th {\n",
       "        text-align: right;\n",
       "    }\n",
       "</style>\n",
       "<table border=\"1\" class=\"dataframe\">\n",
       "  <thead>\n",
       "    <tr style=\"text-align: right;\">\n",
       "      <th></th>\n",
       "      <th>书名</th>\n",
       "      <th>作者</th>\n",
       "      <th>出版社</th>\n",
       "      <th>出版时间</th>\n",
       "      <th>页数</th>\n",
       "      <th>价格</th>\n",
       "      <th>ISBN</th>\n",
       "      <th>评分</th>\n",
       "      <th>评论数量</th>\n",
       "    </tr>\n",
       "  </thead>\n",
       "  <tbody>\n",
       "    <tr>\n",
       "      <th>51632</th>\n",
       "      <td>2.0营销传播</td>\n",
       "      <td>赵洁</td>\n",
       "      <td>厦门大学出版社</td>\n",
       "      <td>1905-07-01 00:00:00</td>\n",
       "      <td>247</td>\n",
       "      <td>20.0</td>\n",
       "      <td>9787561532607</td>\n",
       "      <td>8.1</td>\n",
       "      <td>49.0</td>\n",
       "    </tr>\n",
       "    <tr>\n",
       "      <th>55997</th>\n",
       "      <td>活下去，并且要记住</td>\n",
       "      <td>[俄]瓦·拉斯普京</td>\n",
       "      <td>上海译文出版社</td>\n",
       "      <td>2008/6</td>\n",
       "      <td>263</td>\n",
       "      <td>15.0</td>\n",
       "      <td>9787532744749</td>\n",
       "      <td>8.0</td>\n",
       "      <td>171.0</td>\n",
       "    </tr>\n",
       "    <tr>\n",
       "      <th>20849</th>\n",
       "      <td>生死之间</td>\n",
       "      <td>马克·L. 唐纳德（Mark L. Donald）</td>\n",
       "      <td>化学工业出版社·悦读名品</td>\n",
       "      <td>2016/11/1</td>\n",
       "      <td>284</td>\n",
       "      <td>46.0</td>\n",
       "      <td>9787122230751</td>\n",
       "      <td>8.2</td>\n",
       "      <td>12.0</td>\n",
       "    </tr>\n",
       "    <tr>\n",
       "      <th>42809</th>\n",
       "      <td>大悬疑</td>\n",
       "      <td>王雁</td>\n",
       "      <td>大众文艺出版社</td>\n",
       "      <td>2010/4/1</td>\n",
       "      <td>283</td>\n",
       "      <td>26.8</td>\n",
       "      <td>9787800942136</td>\n",
       "      <td>7.3</td>\n",
       "      <td>692.0</td>\n",
       "    </tr>\n",
       "    <tr>\n",
       "      <th>8818</th>\n",
       "      <td>魔法少女小圓 02</td>\n",
       "      <td>Magica Quartet</td>\n",
       "      <td>東立出版社</td>\n",
       "      <td>2011/10/7</td>\n",
       "      <td>162</td>\n",
       "      <td>110.0</td>\n",
       "      <td>9789861083193</td>\n",
       "      <td>8.0</td>\n",
       "      <td>47.0</td>\n",
       "    </tr>\n",
       "  </tbody>\n",
       "</table>\n",
       "</div>"
      ],
      "text/plain": [
       "              书名                         作者            出版社  \\\n",
       "51632    2.0营销传播                         赵洁        厦门大学出版社   \n",
       "55997  活下去，并且要记住                  [俄]瓦·拉斯普京        上海译文出版社   \n",
       "20849       生死之间  马克·L. 唐纳德（Mark L. Donald）   化学工业出版社·悦读名品   \n",
       "42809        大悬疑                         王雁        大众文艺出版社   \n",
       "8818   魔法少女小圓 02             Magica Quartet          東立出版社   \n",
       "\n",
       "                      出版时间   页数     价格           ISBN   评分   评论数量  \n",
       "51632  1905-07-01 00:00:00  247   20.0  9787561532607  8.1   49.0  \n",
       "55997               2008/6  263   15.0  9787532744749  8.0  171.0  \n",
       "20849            2016/11/1  284   46.0  9787122230751  8.2   12.0  \n",
       "42809             2010/4/1  283   26.8  9787800942136  7.3  692.0  \n",
       "8818             2011/10/7  162  110.0  9789861083193  8.0   47.0  "
      ]
     },
     "execution_count": 20,
     "metadata": {},
     "output_type": "execute_result"
    }
   ],
   "source": [
    "df.sample(5)"
   ]
  },
  {
   "cell_type": "code",
   "execution_count": 21,
   "metadata": {},
   "outputs": [
    {
     "data": {
      "text/html": [
       "<div>\n",
       "<style scoped>\n",
       "    .dataframe tbody tr th:only-of-type {\n",
       "        vertical-align: middle;\n",
       "    }\n",
       "\n",
       "    .dataframe tbody tr th {\n",
       "        vertical-align: top;\n",
       "    }\n",
       "\n",
       "    .dataframe thead th {\n",
       "        text-align: right;\n",
       "    }\n",
       "</style>\n",
       "<table border=\"1\" class=\"dataframe\">\n",
       "  <thead>\n",
       "    <tr style=\"text-align: right;\">\n",
       "      <th></th>\n",
       "      <th>页数</th>\n",
       "      <th>价格</th>\n",
       "      <th>评分</th>\n",
       "      <th>评论数量</th>\n",
       "    </tr>\n",
       "  </thead>\n",
       "  <tbody>\n",
       "    <tr>\n",
       "      <th>count</th>\n",
       "      <td>6.067100e+04</td>\n",
       "      <td>6.067100e+04</td>\n",
       "      <td>60671.000000</td>\n",
       "      <td>60671.000000</td>\n",
       "    </tr>\n",
       "    <tr>\n",
       "      <th>mean</th>\n",
       "      <td>1.654380e+04</td>\n",
       "      <td>1.348609e+02</td>\n",
       "      <td>7.165328</td>\n",
       "      <td>661.712762</td>\n",
       "    </tr>\n",
       "    <tr>\n",
       "      <th>std</th>\n",
       "      <td>3.985784e+06</td>\n",
       "      <td>9.790057e+03</td>\n",
       "      <td>2.616292</td>\n",
       "      <td>3885.365596</td>\n",
       "    </tr>\n",
       "    <tr>\n",
       "      <th>min</th>\n",
       "      <td>0.000000e+00</td>\n",
       "      <td>0.000000e+00</td>\n",
       "      <td>0.000000</td>\n",
       "      <td>0.000000</td>\n",
       "    </tr>\n",
       "    <tr>\n",
       "      <th>25%</th>\n",
       "      <td>1.940000e+02</td>\n",
       "      <td>2.280000e+01</td>\n",
       "      <td>7.300000</td>\n",
       "      <td>24.000000</td>\n",
       "    </tr>\n",
       "    <tr>\n",
       "      <th>50%</th>\n",
       "      <td>2.640000e+02</td>\n",
       "      <td>3.200000e+01</td>\n",
       "      <td>7.900000</td>\n",
       "      <td>73.000000</td>\n",
       "    </tr>\n",
       "    <tr>\n",
       "      <th>75%</th>\n",
       "      <td>3.600000e+02</td>\n",
       "      <td>4.900000e+01</td>\n",
       "      <td>8.500000</td>\n",
       "      <td>266.000000</td>\n",
       "    </tr>\n",
       "    <tr>\n",
       "      <th>max</th>\n",
       "      <td>9.817577e+08</td>\n",
       "      <td>2.336095e+06</td>\n",
       "      <td>10.000000</td>\n",
       "      <td>209602.000000</td>\n",
       "    </tr>\n",
       "  </tbody>\n",
       "</table>\n",
       "</div>"
      ],
      "text/plain": [
       "                 页数            价格            评分           评论数量\n",
       "count  6.067100e+04  6.067100e+04  60671.000000   60671.000000\n",
       "mean   1.654380e+04  1.348609e+02      7.165328     661.712762\n",
       "std    3.985784e+06  9.790057e+03      2.616292    3885.365596\n",
       "min    0.000000e+00  0.000000e+00      0.000000       0.000000\n",
       "25%    1.940000e+02  2.280000e+01      7.300000      24.000000\n",
       "50%    2.640000e+02  3.200000e+01      7.900000      73.000000\n",
       "75%    3.600000e+02  4.900000e+01      8.500000     266.000000\n",
       "max    9.817577e+08  2.336095e+06     10.000000  209602.000000"
      ]
     },
     "execution_count": 21,
     "metadata": {},
     "output_type": "execute_result"
    }
   ],
   "source": [
    "df.describe()"
   ]
  },
  {
   "cell_type": "code",
   "execution_count": 22,
   "metadata": {},
   "outputs": [],
   "source": [
    "def year(s):\n",
    "    y = re.findall('^\\d{4}',str(s))\n",
    "    if len(y)>0:\n",
    "        return y[0]\n",
    "    return ''"
   ]
  },
  {
   "cell_type": "code",
   "execution_count": 23,
   "metadata": {},
   "outputs": [
    {
     "data": {
      "text/plain": [
       "'1905'"
      ]
     },
     "execution_count": 23,
     "metadata": {},
     "output_type": "execute_result"
    }
   ],
   "source": [
    "year('1905-03-14 00:00:00')"
   ]
  },
  {
   "cell_type": "code",
   "execution_count": 24,
   "metadata": {},
   "outputs": [],
   "source": [
    "df['出版年份'] = df['出版时间'].apply(year)"
   ]
  },
  {
   "cell_type": "code",
   "execution_count": 25,
   "metadata": {},
   "outputs": [
    {
     "data": {
      "text/html": [
       "<div>\n",
       "<style scoped>\n",
       "    .dataframe tbody tr th:only-of-type {\n",
       "        vertical-align: middle;\n",
       "    }\n",
       "\n",
       "    .dataframe tbody tr th {\n",
       "        vertical-align: top;\n",
       "    }\n",
       "\n",
       "    .dataframe thead th {\n",
       "        text-align: right;\n",
       "    }\n",
       "</style>\n",
       "<table border=\"1\" class=\"dataframe\">\n",
       "  <thead>\n",
       "    <tr style=\"text-align: right;\">\n",
       "      <th></th>\n",
       "      <th>书名</th>\n",
       "      <th>作者</th>\n",
       "      <th>出版社</th>\n",
       "      <th>出版时间</th>\n",
       "      <th>页数</th>\n",
       "      <th>价格</th>\n",
       "      <th>ISBN</th>\n",
       "      <th>评分</th>\n",
       "      <th>评论数量</th>\n",
       "      <th>出版年份</th>\n",
       "    </tr>\n",
       "  </thead>\n",
       "  <tbody>\n",
       "    <tr>\n",
       "      <th>0</th>\n",
       "      <td>因扎吉传记 SUPERPIPPO</td>\n",
       "      <td>Mauro Suma</td>\n",
       "      <td>ECO Sport</td>\n",
       "      <td>2008/</td>\n",
       "      <td>224</td>\n",
       "      <td>0.0</td>\n",
       "      <td>9788881133581</td>\n",
       "      <td>9.4</td>\n",
       "      <td>69.0</td>\n",
       "      <td></td>\n",
       "    </tr>\n",
       "    <tr>\n",
       "      <th>1</th>\n",
       "      <td>中国武侠小说史论</td>\n",
       "      <td>叶洪生</td>\n",
       "      <td>None</td>\n",
       "      <td>1905-03-14 00:00:00</td>\n",
       "      <td>0</td>\n",
       "      <td>0.0</td>\n",
       "      <td>9787811074710</td>\n",
       "      <td>0.0</td>\n",
       "      <td>0.0</td>\n",
       "      <td>1905</td>\n",
       "    </tr>\n",
       "    <tr>\n",
       "      <th>2</th>\n",
       "      <td>How to cook and eat in Chinese</td>\n",
       "      <td>杨步伟</td>\n",
       "      <td>The John Day company</td>\n",
       "      <td>1905-04-28 00:00:00</td>\n",
       "      <td>262</td>\n",
       "      <td>0.0</td>\n",
       "      <td>9780394717036</td>\n",
       "      <td>0.0</td>\n",
       "      <td>0.0</td>\n",
       "      <td>1905</td>\n",
       "    </tr>\n",
       "    <tr>\n",
       "      <th>3</th>\n",
       "      <td>吐鲁番考古记</td>\n",
       "      <td>黄文弼</td>\n",
       "      <td>中国科学院出版社</td>\n",
       "      <td>1905-05-07 00:00:00</td>\n",
       "      <td>208</td>\n",
       "      <td>0.0</td>\n",
       "      <td>None</td>\n",
       "      <td>0.0</td>\n",
       "      <td>0.0</td>\n",
       "      <td>1905</td>\n",
       "    </tr>\n",
       "    <tr>\n",
       "      <th>4</th>\n",
       "      <td>塞瓦斯托波尔故事</td>\n",
       "      <td>列夫·托尔斯泰</td>\n",
       "      <td>新文艺出版社</td>\n",
       "      <td>1905-05-08 00:00:00</td>\n",
       "      <td>172</td>\n",
       "      <td>0.0</td>\n",
       "      <td>None</td>\n",
       "      <td>0.0</td>\n",
       "      <td>0.0</td>\n",
       "      <td>1905</td>\n",
       "    </tr>\n",
       "  </tbody>\n",
       "</table>\n",
       "</div>"
      ],
      "text/plain": [
       "                               书名          作者                    出版社  \\\n",
       "0                因扎吉传记 SUPERPIPPO  Mauro Suma              ECO Sport   \n",
       "1                        中国武侠小说史论         叶洪生                   None   \n",
       "2  How to cook and eat in Chinese         杨步伟   The John Day company   \n",
       "3                          吐鲁番考古记         黄文弼               中国科学院出版社   \n",
       "4                        塞瓦斯托波尔故事     列夫·托尔斯泰                 新文艺出版社   \n",
       "\n",
       "                  出版时间   页数   价格           ISBN   评分  评论数量  出版年份  \n",
       "0                2008/  224  0.0  9788881133581  9.4  69.0        \n",
       "1  1905-03-14 00:00:00    0  0.0  9787811074710  0.0   0.0  1905  \n",
       "2  1905-04-28 00:00:00  262  0.0  9780394717036  0.0   0.0  1905  \n",
       "3  1905-05-07 00:00:00  208  0.0           None  0.0   0.0  1905  \n",
       "4  1905-05-08 00:00:00  172  0.0           None  0.0   0.0  1905  "
      ]
     },
     "execution_count": 25,
     "metadata": {},
     "output_type": "execute_result"
    }
   ],
   "source": [
    "df.head()"
   ]
  },
  {
   "cell_type": "code",
   "execution_count": 26,
   "metadata": {},
   "outputs": [],
   "source": [
    "grouped = df.groupby('出版年份')"
   ]
  },
  {
   "cell_type": "code",
   "execution_count": 27,
   "metadata": {},
   "outputs": [],
   "source": [
    "data = grouped['ISBN'].count()"
   ]
  },
  {
   "cell_type": "code",
   "execution_count": 28,
   "metadata": {},
   "outputs": [
    {
     "data": {
      "text/plain": [
       "出版年份\n",
       "        54901\n",
       "1904        1\n",
       "1905     3471\n",
       "1954        2\n",
       "1955        2\n",
       "1956        3\n",
       "1958        1\n",
       "1959        1\n",
       "1960        1\n",
       "1962        1\n",
       "Name: ISBN, dtype: int64"
      ]
     },
     "execution_count": 28,
     "metadata": {},
     "output_type": "execute_result"
    }
   ],
   "source": [
    "data.head(10)"
   ]
  },
  {
   "cell_type": "code",
   "execution_count": 29,
   "metadata": {},
   "outputs": [
    {
     "data": {
      "text/plain": [
       "出版年份\n",
       "2007    248\n",
       "2008    249\n",
       "2009    336\n",
       "2010    363\n",
       "2011      1\n",
       "2448      1\n",
       "2449     20\n",
       "2450     15\n",
       "3981      1\n",
       "9789      1\n",
       "Name: ISBN, dtype: int64"
      ]
     },
     "execution_count": 29,
     "metadata": {},
     "output_type": "execute_result"
    }
   ],
   "source": [
    "data.tail(10)"
   ]
  },
  {
   "cell_type": "code",
   "execution_count": 30,
   "metadata": {},
   "outputs": [],
   "source": [
    "data2 = data[3:-6]"
   ]
  },
  {
   "cell_type": "code",
   "execution_count": 31,
   "metadata": {},
   "outputs": [
    {
     "data": {
      "text/plain": [
       "出版年份\n",
       "1954      2\n",
       "1955      2\n",
       "1956      3\n",
       "1958      1\n",
       "1959      1\n",
       "1960      1\n",
       "1962      1\n",
       "1964      1\n",
       "1965      2\n",
       "1971      1\n",
       "1972      1\n",
       "1973      4\n",
       "1974      2\n",
       "1977      2\n",
       "1978     19\n",
       "1979     14\n",
       "1980     10\n",
       "1981     14\n",
       "1982     20\n",
       "1983     12\n",
       "1984     10\n",
       "1985      9\n",
       "1986     17\n",
       "1987      8\n",
       "1988     18\n",
       "1989     12\n",
       "1990      7\n",
       "1991     20\n",
       "1992     22\n",
       "1993     18\n",
       "1994     19\n",
       "1995     25\n",
       "1996     26\n",
       "1997     28\n",
       "1998     33\n",
       "1999     33\n",
       "2000     53\n",
       "2001     65\n",
       "2002     51\n",
       "2003     72\n",
       "2004    110\n",
       "2005    147\n",
       "2006    147\n",
       "2007    248\n",
       "2008    249\n",
       "2009    336\n",
       "2010    363\n",
       "Name: ISBN, dtype: int64"
      ]
     },
     "execution_count": 31,
     "metadata": {},
     "output_type": "execute_result"
    }
   ],
   "source": [
    "data2"
   ]
  },
  {
   "cell_type": "code",
   "execution_count": 32,
   "metadata": {},
   "outputs": [
    {
     "name": "stderr",
     "output_type": "stream",
     "text": [
      "e:\\python\\python36\\lib\\site-packages\\matplotlib\\font_manager.py:1331: UserWarning: findfont: Font family ['Microsoft YaHei'] not found. Falling back to DejaVu Sans\n",
      "  (prop.get_family(), self.defaultFamily[fontext]))\n"
     ]
    },
    {
     "data": {
      "image/png": "[encoded data removed]",
      "text/plain": [
       "<Figure size 1080x360 with 1 Axes>"
      ]
     },
     "metadata": {},
     "output_type": "display_data"
    }
   ],
   "source": [
    "plt.figure(figsize=(15,5))\n",
    "plt.plot(data2.index, data2.values)\n",
    "plt.xticks(rotation=60)\n",
    "plt.show()"
   ]
  },
  {
   "cell_type": "code",
   "execution_count": 33,
   "metadata": {},
   "outputs": [],
   "source": [
    "data3 = grouped['评分'].mean()"
   ]
  },
  {
   "cell_type": "code",
   "execution_count": 34,
   "metadata": {},
   "outputs": [
    {
     "name": "stderr",
     "output_type": "stream",
     "text": [
      "e:\\python\\python36\\lib\\site-packages\\matplotlib\\font_manager.py:1331: UserWarning: findfont: Font family ['Microsoft YaHei'] not found. Falling back to DejaVu Sans\n",
      "  (prop.get_family(), self.defaultFamily[fontext]))\n"
     ]
    },
    {
     "data": {
      "image/png": "[encoded data removed]",
      "text/plain": [
       "<Figure size 1080x360 with 1 Axes>"
      ]
     },
     "metadata": {},
     "output_type": "display_data"
    }
   ],
   "source": [
    "plt.figure(figsize=(15,5))\n",
    "plt.plot(data3.index, data3.values)\n",
    "plt.plot(data3.index, [data3.values.mean()]*len(data3.index))\n",
    "plt.xticks(rotation=60)\n",
    "plt.show()"
   ]
  },
  {
   "cell_type": "code",
   "execution_count": 35,
   "metadata": {},
   "outputs": [],
   "source": [
    "df2 = df[df['价格']>0]"
   ]
  },
  {
   "cell_type": "code",
   "execution_count": 36,
   "metadata": {},
   "outputs": [
    {
     "data": {
      "text/plain": [
       "2244"
      ]
     },
     "execution_count": 36,
     "metadata": {},
     "output_type": "execute_result"
    }
   ],
   "source": [
    "df2[(df2['价格']>=0) & (df2['价格']<10)].shape[0]"
   ]
  },
  {
   "cell_type": "code",
   "execution_count": 37,
   "metadata": {},
   "outputs": [
    {
     "data": {
      "text/plain": [
       "6530"
      ]
     },
     "execution_count": 37,
     "metadata": {},
     "output_type": "execute_result"
    }
   ],
   "source": [
    "df2[(df2['价格']>=10) & (df2['价格']<20)].shape[0]"
   ]
  },
  {
   "cell_type": "code",
   "execution_count": 38,
   "metadata": {},
   "outputs": [],
   "source": [
    "y = []\n",
    "for i in range(10):\n",
    "    y.append(df2[(df2['价格']>=i*10) & (df2['价格']<i*10+10)].shape[0])\n",
    "y.append(df2[df2['价格']>=100].shape[0])\n",
    "x = ['<10','10-20','20-30','30','40','50','60','70','80','90=100','>100']"
   ]
  },
  {
   "cell_type": "code",
   "execution_count": 39,
   "metadata": {},
   "outputs": [
    {
     "name": "stderr",
     "output_type": "stream",
     "text": [
      "e:\\python\\python36\\lib\\site-packages\\matplotlib\\font_manager.py:1331: UserWarning: findfont: Font family ['Microsoft YaHei'] not found. Falling back to DejaVu Sans\n",
      "  (prop.get_family(), self.defaultFamily[fontext]))\n"
     ]
    },
    {
     "data": {
      "image/png": "[encoded data removed]",
      "text/plain": [
       "<Figure size 720x360 with 1 Axes>"
      ]
     },
     "metadata": {},
     "output_type": "display_data"
    }
   ],
   "source": [
    "plt.figure(figsize=(10,5))\n",
    "plt.bar(x,y)\n",
    "plt.show()"
   ]
  },
  {
   "cell_type": "code",
   "execution_count": 40,
   "metadata": {},
   "outputs": [
    {
     "data": {
      "text/html": [
       "<div>\n",
       "<style scoped>\n",
       "    .dataframe tbody tr th:only-of-type {\n",
       "        vertical-align: middle;\n",
       "    }\n",
       "\n",
       "    .dataframe tbody tr th {\n",
       "        vertical-align: top;\n",
       "    }\n",
       "\n",
       "    .dataframe thead th {\n",
       "        text-align: right;\n",
       "    }\n",
       "</style>\n",
       "<table border=\"1\" class=\"dataframe\">\n",
       "  <thead>\n",
       "    <tr style=\"text-align: right;\">\n",
       "      <th></th>\n",
       "      <th>书名</th>\n",
       "      <th>作者</th>\n",
       "      <th>出版社</th>\n",
       "      <th>出版时间</th>\n",
       "      <th>页数</th>\n",
       "      <th>价格</th>\n",
       "      <th>ISBN</th>\n",
       "      <th>评分</th>\n",
       "      <th>评论数量</th>\n",
       "      <th>出版年份</th>\n",
       "    </tr>\n",
       "  </thead>\n",
       "  <tbody>\n",
       "    <tr>\n",
       "      <th>1830</th>\n",
       "      <td>只有你聽到 Calling You</td>\n",
       "      <td>乙一</td>\n",
       "      <td>青春文化</td>\n",
       "      <td>1905-06-27 00:00:00</td>\n",
       "      <td>217</td>\n",
       "      <td>55.0</td>\n",
       "      <td>9789889860264</td>\n",
       "      <td>8.7</td>\n",
       "      <td>4760.0</td>\n",
       "      <td>1905</td>\n",
       "    </tr>\n",
       "    <tr>\n",
       "      <th>1831</th>\n",
       "      <td>安源</td>\n",
       "      <td>裴宜理 (Elizabeth J. Perry)</td>\n",
       "      <td>香港大學出版社</td>\n",
       "      <td>2014/7/1</td>\n",
       "      <td>336</td>\n",
       "      <td>160.0</td>\n",
       "      <td>9789888208067</td>\n",
       "      <td>8.6</td>\n",
       "      <td>51.0</td>\n",
       "      <td></td>\n",
       "    </tr>\n",
       "    <tr>\n",
       "      <th>1833</th>\n",
       "      <td>劇場技術手冊</td>\n",
       "      <td>Paul Carter</td>\n",
       "      <td>台灣技術劇場協會Taiwan Associaiton of Theater Technology</td>\n",
       "      <td>初版2006/10月，修訂版2009/1月</td>\n",
       "      <td>0</td>\n",
       "      <td>500.0</td>\n",
       "      <td>9789868272101</td>\n",
       "      <td>0.0</td>\n",
       "      <td>0.0</td>\n",
       "      <td></td>\n",
       "    </tr>\n",
       "    <tr>\n",
       "      <th>1834</th>\n",
       "      <td>易卜生评论集</td>\n",
       "      <td>编辑委员会编</td>\n",
       "      <td>外语教学与研究出版社</td>\n",
       "      <td>1982/12/01</td>\n",
       "      <td>431</td>\n",
       "      <td>1.8</td>\n",
       "      <td>None</td>\n",
       "      <td>8.1</td>\n",
       "      <td>15.0</td>\n",
       "      <td></td>\n",
       "    </tr>\n",
       "    <tr>\n",
       "      <th>1835</th>\n",
       "      <td>不祥的宴會</td>\n",
       "      <td>阿嘉莎·克莉絲蒂</td>\n",
       "      <td>遠景·風雲時代</td>\n",
       "      <td>1982-03-01 00:00:00</td>\n",
       "      <td>316</td>\n",
       "      <td>90.0</td>\n",
       "      <td>9789579536431</td>\n",
       "      <td>7.8</td>\n",
       "      <td>28.0</td>\n",
       "      <td>1982</td>\n",
       "    </tr>\n",
       "  </tbody>\n",
       "</table>\n",
       "</div>"
      ],
      "text/plain": [
       "                     书名                        作者  \\\n",
       "1830  只有你聽到 Calling You                        乙一   \n",
       "1831                 安源  裴宜理 (Elizabeth J. Perry)   \n",
       "1833             劇場技術手冊               Paul Carter   \n",
       "1834             易卜生评论集                    编辑委员会编   \n",
       "1835              不祥的宴會                  阿嘉莎·克莉絲蒂   \n",
       "\n",
       "                                                    出版社  \\\n",
       "1830                                               青春文化   \n",
       "1831                                            香港大學出版社   \n",
       "1833   台灣技術劇場協會Taiwan Associaiton of Theater Technology   \n",
       "1834                                         外语教学与研究出版社   \n",
       "1835                                            遠景·風雲時代   \n",
       "\n",
       "                        出版时间   页数     价格           ISBN   评分    评论数量  出版年份  \n",
       "1830     1905-06-27 00:00:00  217   55.0  9789889860264  8.7  4760.0  1905  \n",
       "1831                2014/7/1  336  160.0  9789888208067  8.6    51.0        \n",
       "1833   初版2006/10月，修訂版2009/1月    0  500.0  9789868272101  0.0     0.0        \n",
       "1834              1982/12/01  431    1.8           None  8.1    15.0        \n",
       "1835     1982-03-01 00:00:00  316   90.0  9789579536431  7.8    28.0  1982  "
      ]
     },
     "execution_count": 40,
     "metadata": {},
     "output_type": "execute_result"
    }
   ],
   "source": [
    "df2.head()"
   ]
  },
  {
   "cell_type": "code",
   "execution_count": 41,
   "metadata": {},
   "outputs": [
    {
     "data": {
      "text/html": [
       "<div>\n",
       "<style scoped>\n",
       "    .dataframe tbody tr th:only-of-type {\n",
       "        vertical-align: middle;\n",
       "    }\n",
       "\n",
       "    .dataframe tbody tr th {\n",
       "        vertical-align: top;\n",
       "    }\n",
       "\n",
       "    .dataframe thead th {\n",
       "        text-align: right;\n",
       "    }\n",
       "</style>\n",
       "<table border=\"1\" class=\"dataframe\">\n",
       "  <thead>\n",
       "    <tr style=\"text-align: right;\">\n",
       "      <th></th>\n",
       "      <th>书名</th>\n",
       "      <th>作者</th>\n",
       "      <th>出版社</th>\n",
       "      <th>出版时间</th>\n",
       "      <th>页数</th>\n",
       "      <th>价格</th>\n",
       "      <th>ISBN</th>\n",
       "      <th>评分</th>\n",
       "      <th>评论数量</th>\n",
       "      <th>出版年份</th>\n",
       "    </tr>\n",
       "  </thead>\n",
       "  <tbody>\n",
       "    <tr>\n",
       "      <th>0</th>\n",
       "      <td>因扎吉传记 SUPERPIPPO</td>\n",
       "      <td>Mauro Suma</td>\n",
       "      <td>ECO Sport</td>\n",
       "      <td>2008/</td>\n",
       "      <td>224</td>\n",
       "      <td>0.0</td>\n",
       "      <td>9788881133581</td>\n",
       "      <td>9.4</td>\n",
       "      <td>69.0</td>\n",
       "      <td></td>\n",
       "    </tr>\n",
       "    <tr>\n",
       "      <th>1</th>\n",
       "      <td>中国武侠小说史论</td>\n",
       "      <td>叶洪生</td>\n",
       "      <td>None</td>\n",
       "      <td>1905-03-14 00:00:00</td>\n",
       "      <td>0</td>\n",
       "      <td>0.0</td>\n",
       "      <td>9787811074710</td>\n",
       "      <td>0.0</td>\n",
       "      <td>0.0</td>\n",
       "      <td>1905</td>\n",
       "    </tr>\n",
       "    <tr>\n",
       "      <th>2</th>\n",
       "      <td>How to cook and eat in Chinese</td>\n",
       "      <td>杨步伟</td>\n",
       "      <td>The John Day company</td>\n",
       "      <td>1905-04-28 00:00:00</td>\n",
       "      <td>262</td>\n",
       "      <td>0.0</td>\n",
       "      <td>9780394717036</td>\n",
       "      <td>0.0</td>\n",
       "      <td>0.0</td>\n",
       "      <td>1905</td>\n",
       "    </tr>\n",
       "    <tr>\n",
       "      <th>3</th>\n",
       "      <td>吐鲁番考古记</td>\n",
       "      <td>黄文弼</td>\n",
       "      <td>中国科学院出版社</td>\n",
       "      <td>1905-05-07 00:00:00</td>\n",
       "      <td>208</td>\n",
       "      <td>0.0</td>\n",
       "      <td>None</td>\n",
       "      <td>0.0</td>\n",
       "      <td>0.0</td>\n",
       "      <td>1905</td>\n",
       "    </tr>\n",
       "    <tr>\n",
       "      <th>4</th>\n",
       "      <td>塞瓦斯托波尔故事</td>\n",
       "      <td>列夫·托尔斯泰</td>\n",
       "      <td>新文艺出版社</td>\n",
       "      <td>1905-05-08 00:00:00</td>\n",
       "      <td>172</td>\n",
       "      <td>0.0</td>\n",
       "      <td>None</td>\n",
       "      <td>0.0</td>\n",
       "      <td>0.0</td>\n",
       "      <td>1905</td>\n",
       "    </tr>\n",
       "  </tbody>\n",
       "</table>\n",
       "</div>"
      ],
      "text/plain": [
       "                               书名          作者                    出版社  \\\n",
       "0                因扎吉传记 SUPERPIPPO  Mauro Suma              ECO Sport   \n",
       "1                        中国武侠小说史论         叶洪生                   None   \n",
       "2  How to cook and eat in Chinese         杨步伟   The John Day company   \n",
       "3                          吐鲁番考古记         黄文弼               中国科学院出版社   \n",
       "4                        塞瓦斯托波尔故事     列夫·托尔斯泰                 新文艺出版社   \n",
       "\n",
       "                  出版时间   页数   价格           ISBN   评分  评论数量  出版年份  \n",
       "0                2008/  224  0.0  9788881133581  9.4  69.0        \n",
       "1  1905-03-14 00:00:00    0  0.0  9787811074710  0.0   0.0  1905  \n",
       "2  1905-04-28 00:00:00  262  0.0  9780394717036  0.0   0.0  1905  \n",
       "3  1905-05-07 00:00:00  208  0.0           None  0.0   0.0  1905  \n",
       "4  1905-05-08 00:00:00  172  0.0           None  0.0   0.0  1905  "
      ]
     },
     "execution_count": 41,
     "metadata": {},
     "output_type": "execute_result"
    }
   ],
   "source": [
    "df.head()"
   ]
  },
  {
   "cell_type": "code",
   "execution_count": 55,
   "metadata": {},
   "outputs": [
    {
     "data": {
      "image/png": "[encoded data removed]",
      "text/plain": [
       "<Figure size 720x216 with 1 Axes>"
      ]
     },
     "metadata": {},
     "output_type": "display_data"
    }
   ],
   "source": [
    "publish = df.groupby('出版社')\n",
    "\n",
    "datapub = publish['出版社'].count().sort_values().tail(20)\n",
    "\n",
    "plt.figure(figsize=(10,3))\n",
    "datapub.plot(kind='bar')\n",
    "plt.show()"
   ]
  },
  {
   "cell_type": "code",
   "execution_count": 58,
   "metadata": {},
   "outputs": [
    {
     "data": {
      "image/png": "[encoded data removed]",
      "text/plain": [
       "<Figure size 720x216 with 1 Axes>"
      ]
     },
     "metadata": {},
     "output_type": "display_data"
    }
   ],
   "source": [
    "rate = df.groupby('出版社')\n",
    "\n",
    "datapub = rate['评分'].mean().sort_values().tail(20)\n",
    "\n",
    "plt.figure(figsize=(10,3))\n",
    "datapub.plot(kind='bar')\n",
    "plt.show()"
   ]
  },
  {
   "cell_type": "code",
   "execution_count": 59,
   "metadata": {},
   "outputs": [
    {
     "data": {
      "image/png": "[encoded data removed]",
      "text/plain": [
       "<Figure size 720x216 with 1 Axes>"
      ]
     },
     "metadata": {},
     "output_type": "display_data"
    }
   ],
   "source": [
    "author = df.groupby('作者')\n",
    "\n",
    "datapub = author['书名'].count().sort_values().tail(20)\n",
    "\n",
    "plt.figure(figsize=(10,3))\n",
    "datapub.plot(kind='bar')\n",
    "plt.show()"
   ]
  },
  {
   "cell_type": "code",
   "execution_count": 68,
   "metadata": {},
   "outputs": [
    {
     "ename": "ModuleNotFoundError",
     "evalue": "No module named 'seaborn'",
     "output_type": "error",
     "traceback": [
      "\u001b[1;31m---------------------------------------------------------------------------\u001b[0m",
      "\u001b[1;31mModuleNotFoundError\u001b[0m                       Traceback (most recent call last)",
      "\u001b[1;32m<ipython-input-68-79a1a8d09f45>\u001b[0m in \u001b[0;36m<module>\u001b[1;34m()\u001b[0m\n\u001b[0;32m      1\u001b[0m \u001b[0mrelative\u001b[0m \u001b[1;33m=\u001b[0m \u001b[0mdf\u001b[0m\u001b[1;33m[\u001b[0m\u001b[0mdf\u001b[0m\u001b[1;33m.\u001b[0m\u001b[0mcolumns\u001b[0m\u001b[1;33m[\u001b[0m\u001b[1;33m-\u001b[0m\u001b[1;36m3\u001b[0m\u001b[1;33m:\u001b[0m\u001b[1;33m-\u001b[0m\u001b[1;36m1\u001b[0m\u001b[1;33m]\u001b[0m\u001b[1;33m]\u001b[0m\u001b[1;33m\u001b[0m\u001b[0m\n\u001b[1;32m----> 2\u001b[1;33m \u001b[1;32mimport\u001b[0m \u001b[0mseaborn\u001b[0m \u001b[1;32mas\u001b[0m \u001b[0msns\u001b[0m\u001b[1;33m\u001b[0m\u001b[0m\n\u001b[0m\u001b[0;32m      3\u001b[0m \u001b[0mcorr\u001b[0m \u001b[1;33m=\u001b[0m \u001b[0mrelative\u001b[0m\u001b[1;33m.\u001b[0m\u001b[0mcorr\u001b[0m\u001b[1;33m(\u001b[0m\u001b[1;33m)\u001b[0m\u001b[1;33m\u001b[0m\u001b[0m\n\u001b[0;32m      4\u001b[0m \u001b[0msns\u001b[0m\u001b[1;33m.\u001b[0m\u001b[0mheatmap\u001b[0m\u001b[1;33m(\u001b[0m\u001b[0mcorr\u001b[0m\u001b[1;33m)\u001b[0m\u001b[1;33m\u001b[0m\u001b[0m\n\u001b[0;32m      5\u001b[0m \u001b[0mplt\u001b[0m\u001b[1;33m.\u001b[0m\u001b[0mshow\u001b[0m\u001b[1;33m(\u001b[0m\u001b[1;33m)\u001b[0m\u001b[1;33m\u001b[0m\u001b[0m\n",
      "\u001b[1;31mModuleNotFoundError\u001b[0m: No module named 'seaborn'"
     ]
    }
   ],
   "source": [
    "relative = df[df.columns[-3:-1]]\n",
    "import seaborn as sns\n",
    "corr = relative.corr()\n",
    "sns.heatmap(corr)\n",
    "plt.show()"
   ]
  }
 ],
 "metadata": {
  "kernelspec": {
   "display_name": "Python 3",
   "language": "python",
   "name": "python3"
  },
  "language_info": {
   "codemirror_mode": {
    "name": "ipython",
    "version": 3
   },
   "file_extension": ".py",
   "mimetype": "text/x-python",
   "name": "python",
   "nbconvert_exporter": "python",
   "pygments_lexer": "ipython3",
   "version": "3.6.4"
  }
 },
 "nbformat": 4,
 "nbformat_minor": 2
}
