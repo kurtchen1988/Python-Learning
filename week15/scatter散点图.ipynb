{
 "cells": [
  {
   "cell_type": "code",
   "execution_count": 1,
   "metadata": {},
   "outputs": [],
   "source": [
    "import matplotlib.pyplot as plt\n",
    "import numpy as np"
   ]
  },
  {
   "cell_type": "code",
   "execution_count": 8,
   "metadata": {},
   "outputs": [
    {
     "data": {
      "image/png": "[encoded data removed]",
      "text/plain": [
       "<Figure size 432x288 with 1 Axes>"
      ]
     },
     "metadata": {},
     "output_type": "display_data"
    }
   ],
   "source": [
    "plt.scatter(3,5, s=200, color='r', alpha=0.8, marker='h') # 在3和5的地方绘制一个点,s的默认值是20，\n",
    "# 可以通过改变它的大小让点变大或小\n",
    "# color是颜色属性，调整颜色用它.常用颜色有：r红 g绿，r红，b蓝，k黑，y黄。它同样支持16进制的值\n",
    "# alpha是透明度的意思，0-1之间的数字\n",
    "# marker是形状的意思，可以传的值o圆形,*星型,，方形,+加号，d菱形，D钻石，s方形,h六边形.\n",
    "plt.show() # 直接绘制图片，不显示打印的信息"
   ]
  },
  {
   "cell_type": "code",
   "execution_count": 12,
   "metadata": {},
   "outputs": [
    {
     "data": {
      "image/png": "[encoded data removed]",
      "text/plain": [
       "<Figure size 432x288 with 1 Axes>"
      ]
     },
     "metadata": {},
     "output_type": "display_data"
    }
   ],
   "source": [
    "x = [1,2,3,4]\n",
    "y = [2,3,4,8]\n",
    "plt.scatter(x,y, s=[20,40,80,300], color=['r','g','b','y'])\n",
    "# 点值可以输入数组，一个对应x轴一个对应y轴。s输入数组分别控制每个点大小\n",
    "# color输入数组分别控制每个点的颜色，\n",
    "plt.show()"
   ]
  },
  {
   "cell_type": "code",
   "execution_count": 14,
   "metadata": {},
   "outputs": [],
   "source": [
    "x1 = np.random.randint(1,10,size=(10,2))\n",
    "x2 = np.random.randint(1,10,size=(10,2))"
   ]
  },
  {
   "cell_type": "code",
   "execution_count": 17,
   "metadata": {},
   "outputs": [
    {
     "data": {
      "image/png": "[encoded data removed]",
      "text/plain": [
       "<Figure size 432x288 with 1 Axes>"
      ]
     },
     "metadata": {},
     "output_type": "display_data"
    }
   ],
   "source": [
    "plt.scatter(x1[:,0], x1[:,1], color='r') # x轴与y轴分别切分自多维数组x1\n",
    "plt.scatter(x2[:,0], x2[:,1], color='g') # x轴与y轴分别切分自多维数组x2\n",
    "plt.show()"
   ]
  },
  {
   "cell_type": "code",
   "execution_count": 22,
   "metadata": {},
   "outputs": [],
   "source": [
    "X = np.loadtxt('data/x_height.txt')"
   ]
  },
  {
   "cell_type": "code",
   "execution_count": 20,
   "metadata": {},
   "outputs": [
    {
     "data": {
      "text/plain": [
       "array([0., 0., 0., 0., 0., 0., 0., 0., 0., 0., 0., 0., 0., 0., 0., 0., 0.,\n",
       "       0., 1., 1., 1., 1., 1., 1., 1., 1., 1., 1., 1., 1., 1., 1., 1., 1.,\n",
       "       1., 1.])"
      ]
     },
     "execution_count": 20,
     "metadata": {},
     "output_type": "execute_result"
    }
   ],
   "source": [
    "y = np.concatenate([np.zeros(18), np.ones(18)])\n",
    "y"
   ]
  },
  {
   "cell_type": "code",
   "execution_count": 25,
   "metadata": {},
   "outputs": [
    {
     "data": {
      "text/plain": [
       "array([[  0.,  15.],\n",
       "       [  1., 115.],\n",
       "       [  2., 109.],\n",
       "       [  3., 110.],\n",
       "       [  4., 140.],\n",
       "       [  5., 110.],\n",
       "       [  6.,  83.],\n",
       "       [  7., 151.],\n",
       "       [  8.,  22.],\n",
       "       [  9., 135.],\n",
       "       [ 10.,  44.],\n",
       "       [ 11.,   4.],\n",
       "       [ 12., 140.],\n",
       "       [ 13., 161.],\n",
       "       [ 14.,  43.],\n",
       "       [ 15.,  90.],\n",
       "       [ 16.,  31.],\n",
       "       [ 17., 133.]])"
      ]
     },
     "execution_count": 25,
     "metadata": {},
     "output_type": "execute_result"
    }
   ],
   "source": [
    "# X[y==0]"
   ]
  },
  {
   "cell_type": "code",
   "execution_count": 27,
   "metadata": {},
   "outputs": [
    {
     "data": {
      "image/png": "[encoded data removed]",
      "text/plain": [
       "<Figure size 432x288 with 1 Axes>"
      ]
     },
     "metadata": {},
     "output_type": "display_data"
    }
   ],
   "source": [
    "plt.scatter(X[y==0,0],X[y==0,1], color='r', marker='_')\n",
    "plt.scatter(X[y==1,0],X[y==1,1], color='g', marker='_')\n",
    "plt.show()"
   ]
  },
  {
   "cell_type": "code",
   "execution_count": null,
   "metadata": {},
   "outputs": [],
   "source": []
  }
 ],
 "metadata": {
  "kernelspec": {
   "display_name": "Python 3",
   "language": "python",
   "name": "python3"
  },
  "language_info": {
   "codemirror_mode": {
    "name": "ipython",
    "version": 3
   },
   "file_extension": ".py",
   "mimetype": "text/x-python",
   "name": "python",
   "nbconvert_exporter": "python",
   "pygments_lexer": "ipython3",
   "version": "3.5.2"
  }
 },
 "nbformat": 4,
 "nbformat_minor": 2
}
