{
 "cells": [
  {
   "cell_type": "markdown",
   "metadata": {},
   "source": [
    "# time datetime timedelta"
   ]
  },
  {
   "cell_type": "code",
   "execution_count": 1,
   "metadata": {},
   "outputs": [],
   "source": [
    "import time"
   ]
  },
  {
   "cell_type": "code",
   "execution_count": 2,
   "metadata": {},
   "outputs": [
    {
     "data": {
      "text/plain": [
       "1533982580.2000334"
      ]
     },
     "execution_count": 2,
     "metadata": {},
     "output_type": "execute_result"
    }
   ],
   "source": [
    "time.time() # 显示从系统默认开始时间到现在的秒数"
   ]
  },
  {
   "cell_type": "code",
   "execution_count": 3,
   "metadata": {},
   "outputs": [
    {
     "data": {
      "text/plain": [
       "time.struct_time(tm_year=2018, tm_mon=8, tm_mday=11, tm_hour=18, tm_min=16, tm_sec=20, tm_wday=5, tm_yday=223, tm_isdst=0)"
      ]
     },
     "execution_count": 3,
     "metadata": {},
     "output_type": "execute_result"
    }
   ],
   "source": [
    "time.localtime(1533982580) # 显示人类可读的时间"
   ]
  },
  {
   "cell_type": "code",
   "execution_count": 4,
   "metadata": {},
   "outputs": [
    {
     "data": {
      "text/plain": [
       "'2018=08-11 18:16:20'"
      ]
     },
     "execution_count": 4,
     "metadata": {},
     "output_type": "execute_result"
    }
   ],
   "source": [
    "time.strftime('%Y=%m-%d %H:%M:%S', time.localtime(1533982580)) # 返回一个时间字符串, 按照写入的格式"
   ]
  },
  {
   "cell_type": "code",
   "execution_count": 7,
   "metadata": {},
   "outputs": [],
   "source": [
    "local = time.strptime('2018-08-11 19:50', '%Y-%m-%d %H:%M') # 反推"
   ]
  },
  {
   "cell_type": "code",
   "execution_count": 8,
   "metadata": {},
   "outputs": [
    {
     "data": {
      "text/plain": [
       "1533988200.0"
      ]
     },
     "execution_count": 8,
     "metadata": {},
     "output_type": "execute_result"
    }
   ],
   "source": [
    "time.mktime(local)"
   ]
  },
  {
   "cell_type": "code",
   "execution_count": 9,
   "metadata": {},
   "outputs": [],
   "source": [
    "from datetime import datetime"
   ]
  },
  {
   "cell_type": "code",
   "execution_count": 10,
   "metadata": {},
   "outputs": [
    {
     "data": {
      "text/plain": [
       "datetime.datetime(2018, 8, 11, 20, 22, 4, 495993)"
      ]
     },
     "execution_count": 10,
     "metadata": {},
     "output_type": "execute_result"
    }
   ],
   "source": [
    "now = datetime.now()\n",
    "now"
   ]
  },
  {
   "cell_type": "code",
   "execution_count": 11,
   "metadata": {},
   "outputs": [
    {
     "data": {
      "text/plain": [
       "(2018, 8, 11)"
      ]
     },
     "execution_count": 11,
     "metadata": {},
     "output_type": "execute_result"
    }
   ],
   "source": [
    "now.year, now.month, now.day # 当前的年月日"
   ]
  },
  {
   "cell_type": "code",
   "execution_count": 13,
   "metadata": {},
   "outputs": [
    {
     "data": {
      "text/plain": [
       "'2018-08-11 20:22:04'"
      ]
     },
     "execution_count": 13,
     "metadata": {},
     "output_type": "execute_result"
    }
   ],
   "source": [
    "now.strftime('%Y-%m-%d %H:%M:%S') # 拿到现在的格式化后的字符串时间"
   ]
  },
  {
   "cell_type": "code",
   "execution_count": 14,
   "metadata": {},
   "outputs": [
    {
     "data": {
      "text/plain": [
       "datetime.datetime(2018, 5, 31, 20, 16, 44)"
      ]
     },
     "execution_count": 14,
     "metadata": {},
     "output_type": "execute_result"
    }
   ],
   "source": [
    "datetime.strptime('2018-05-31 20:16:44', '%Y-%m-%d %H:%M:%S')"
   ]
  },
  {
   "cell_type": "code",
   "execution_count": 15,
   "metadata": {},
   "outputs": [
    {
     "data": {
      "text/plain": [
       "datetime.datetime(2018, 5, 31, 0, 0)"
      ]
     },
     "execution_count": 15,
     "metadata": {},
     "output_type": "execute_result"
    }
   ],
   "source": [
    "datetime(2018, 5, 31)"
   ]
  },
  {
   "cell_type": "code",
   "execution_count": 16,
   "metadata": {},
   "outputs": [
    {
     "data": {
      "text/plain": [
       "datetime.datetime(2018, 5, 31, 19, 50)"
      ]
     },
     "execution_count": 16,
     "metadata": {},
     "output_type": "execute_result"
    }
   ],
   "source": [
    "datetime.fromtimestamp(1527767400.0) # 从时间戳反转换"
   ]
  },
  {
   "cell_type": "code",
   "execution_count": 17,
   "metadata": {},
   "outputs": [
    {
     "data": {
      "text/plain": [
       "1533990124.495993"
      ]
     },
     "execution_count": 17,
     "metadata": {},
     "output_type": "execute_result"
    }
   ],
   "source": [
    "now.timestamp()"
   ]
  },
  {
   "cell_type": "code",
   "execution_count": 18,
   "metadata": {},
   "outputs": [
    {
     "data": {
      "text/plain": [
       "datetime.timedelta(72, 74005, 616088)"
      ]
     },
     "execution_count": 18,
     "metadata": {},
     "output_type": "execute_result"
    }
   ],
   "source": [
    "delta = datetime.now() - datetime(2018, 5, 31)\n",
    "delta"
   ]
  },
  {
   "cell_type": "code",
   "execution_count": 19,
   "metadata": {},
   "outputs": [
    {
     "data": {
      "text/plain": [
       "72"
      ]
     },
     "execution_count": 19,
     "metadata": {},
     "output_type": "execute_result"
    }
   ],
   "source": [
    "delta.days"
   ]
  },
  {
   "cell_type": "code",
   "execution_count": 20,
   "metadata": {},
   "outputs": [
    {
     "data": {
      "text/plain": [
       "74005"
      ]
     },
     "execution_count": 20,
     "metadata": {},
     "output_type": "execute_result"
    }
   ],
   "source": [
    "delta.seconds"
   ]
  },
  {
   "cell_type": "code",
   "execution_count": 21,
   "metadata": {},
   "outputs": [
    {
     "data": {
      "text/plain": [
       "616088"
      ]
     },
     "execution_count": 21,
     "metadata": {},
     "output_type": "execute_result"
    }
   ],
   "source": [
    "delta.microseconds"
   ]
  },
  {
   "cell_type": "code",
   "execution_count": 22,
   "metadata": {},
   "outputs": [],
   "source": [
    "import pandas as pd\n",
    "import numpy as np"
   ]
  },
  {
   "cell_type": "code",
   "execution_count": 23,
   "metadata": {},
   "outputs": [
    {
     "data": {
      "text/plain": [
       "DatetimeIndex(['2018-05-01', '2018-05-02', '2018-05-03', '2018-05-04',\n",
       "               '2018-05-05', '2018-05-06', '2018-05-07', '2018-05-08',\n",
       "               '2018-05-09', '2018-05-10'],\n",
       "              dtype='datetime64[ns]', freq='D')"
      ]
     },
     "execution_count": 23,
     "metadata": {},
     "output_type": "execute_result"
    }
   ],
   "source": [
    "pd.date_range('2018-05-01', '2018-05-10')"
   ]
  },
  {
   "cell_type": "code",
   "execution_count": 26,
   "metadata": {},
   "outputs": [
    {
     "data": {
      "text/plain": [
       "DatetimeIndex(['2018-05-06', '2018-05-13', '2018-05-20', '2018-05-27',\n",
       "               '2018-06-03', '2018-06-10', '2018-06-17', '2018-06-24',\n",
       "               '2018-07-01', '2018-07-08', '2018-07-15', '2018-07-22',\n",
       "               '2018-07-29', '2018-08-05', '2018-08-12', '2018-08-19',\n",
       "               '2018-08-26', '2018-09-02', '2018-09-09', '2018-09-16',\n",
       "               '2018-09-23', '2018-09-30'],\n",
       "              dtype='datetime64[ns]', freq='W-SUN')"
      ]
     },
     "execution_count": 26,
     "metadata": {},
     "output_type": "execute_result"
    }
   ],
   "source": [
    "pd.date_range('2018-05-01', '2018-10-01', freq='W') # 这里的freq是频率的意思，可以是W周，\n",
    "#D日，M月，Q季度，A年，H小时，T分 S秒"
   ]
  },
  {
   "cell_type": "code",
   "execution_count": 27,
   "metadata": {},
   "outputs": [
    {
     "data": {
      "text/plain": [
       "DatetimeIndex(['2018-06-30', '2018-09-30', '2018-12-31', '2019-03-31',\n",
       "               '2019-06-30', '2019-09-30', '2019-12-31', '2020-03-31',\n",
       "               '2020-06-30', '2020-09-30'],\n",
       "              dtype='datetime64[ns]', freq='Q-DEC')"
      ]
     },
     "execution_count": 27,
     "metadata": {},
     "output_type": "execute_result"
    }
   ],
   "source": [
    "pd.date_range('2018-05-01', freq='Q', periods=10) # periods是次数的意思"
   ]
  },
  {
   "cell_type": "code",
   "execution_count": 28,
   "metadata": {},
   "outputs": [
    {
     "data": {
      "text/html": [
       "<div>\n",
       "<style scoped>\n",
       "    .dataframe tbody tr th:only-of-type {\n",
       "        vertical-align: middle;\n",
       "    }\n",
       "\n",
       "    .dataframe tbody tr th {\n",
       "        vertical-align: top;\n",
       "    }\n",
       "\n",
       "    .dataframe thead th {\n",
       "        text-align: right;\n",
       "    }\n",
       "</style>\n",
       "<table border=\"1\" class=\"dataframe\">\n",
       "  <thead>\n",
       "    <tr style=\"text-align: right;\">\n",
       "      <th></th>\n",
       "      <th>time</th>\n",
       "      <th>cpu</th>\n",
       "    </tr>\n",
       "  </thead>\n",
       "  <tbody>\n",
       "    <tr>\n",
       "      <th>0</th>\n",
       "      <td>2018-06-01 00:00:00</td>\n",
       "      <td>10.234498</td>\n",
       "    </tr>\n",
       "    <tr>\n",
       "      <th>1</th>\n",
       "      <td>2018-06-01 00:01:00</td>\n",
       "      <td>9.085277</td>\n",
       "    </tr>\n",
       "    <tr>\n",
       "      <th>2</th>\n",
       "      <td>2018-06-01 00:02:00</td>\n",
       "      <td>9.228946</td>\n",
       "    </tr>\n",
       "    <tr>\n",
       "      <th>3</th>\n",
       "      <td>2018-06-01 00:03:00</td>\n",
       "      <td>8.930009</td>\n",
       "    </tr>\n",
       "    <tr>\n",
       "      <th>4</th>\n",
       "      <td>2018-06-01 00:04:00</td>\n",
       "      <td>9.300112</td>\n",
       "    </tr>\n",
       "  </tbody>\n",
       "</table>\n",
       "</div>"
      ],
      "text/plain": [
       "                 time        cpu\n",
       "0 2018-06-01 00:00:00  10.234498\n",
       "1 2018-06-01 00:01:00   9.085277\n",
       "2 2018-06-01 00:02:00   9.228946\n",
       "3 2018-06-01 00:03:00   8.930009\n",
       "4 2018-06-01 00:04:00   9.300112"
      ]
     },
     "execution_count": 28,
     "metadata": {},
     "output_type": "execute_result"
    }
   ],
   "source": [
    "data = {\n",
    "    'time':pd.date_range('2018-06-01',periods=200000, freq='T'),\n",
    "    'cpu':np.random.randn(200000) + 10\n",
    "}\n",
    "\n",
    "df = pd.DataFrame(data, columns=['time','cpu'])\n",
    "df.head()"
   ]
  },
  {
   "cell_type": "code",
   "execution_count": 29,
   "metadata": {},
   "outputs": [
    {
     "data": {
      "text/html": [
       "<div>\n",
       "<style scoped>\n",
       "    .dataframe tbody tr th:only-of-type {\n",
       "        vertical-align: middle;\n",
       "    }\n",
       "\n",
       "    .dataframe tbody tr th {\n",
       "        vertical-align: top;\n",
       "    }\n",
       "\n",
       "    .dataframe thead th {\n",
       "        text-align: right;\n",
       "    }\n",
       "</style>\n",
       "<table border=\"1\" class=\"dataframe\">\n",
       "  <thead>\n",
       "    <tr style=\"text-align: right;\">\n",
       "      <th></th>\n",
       "      <th>time</th>\n",
       "      <th>cpu</th>\n",
       "    </tr>\n",
       "  </thead>\n",
       "  <tbody>\n",
       "    <tr>\n",
       "      <th>199995</th>\n",
       "      <td>2018-10-17 21:15:00</td>\n",
       "      <td>10.297995</td>\n",
       "    </tr>\n",
       "    <tr>\n",
       "      <th>199996</th>\n",
       "      <td>2018-10-17 21:16:00</td>\n",
       "      <td>10.676624</td>\n",
       "    </tr>\n",
       "    <tr>\n",
       "      <th>199997</th>\n",
       "      <td>2018-10-17 21:17:00</td>\n",
       "      <td>9.816929</td>\n",
       "    </tr>\n",
       "    <tr>\n",
       "      <th>199998</th>\n",
       "      <td>2018-10-17 21:18:00</td>\n",
       "      <td>8.459083</td>\n",
       "    </tr>\n",
       "    <tr>\n",
       "      <th>199999</th>\n",
       "      <td>2018-10-17 21:19:00</td>\n",
       "      <td>9.572343</td>\n",
       "    </tr>\n",
       "  </tbody>\n",
       "</table>\n",
       "</div>"
      ],
      "text/plain": [
       "                      time        cpu\n",
       "199995 2018-10-17 21:15:00  10.297995\n",
       "199996 2018-10-17 21:16:00  10.676624\n",
       "199997 2018-10-17 21:17:00   9.816929\n",
       "199998 2018-10-17 21:18:00   8.459083\n",
       "199999 2018-10-17 21:19:00   9.572343"
      ]
     },
     "execution_count": 29,
     "metadata": {},
     "output_type": "execute_result"
    }
   ],
   "source": [
    "df.tail()"
   ]
  },
  {
   "cell_type": "code",
   "execution_count": 30,
   "metadata": {},
   "outputs": [
    {
     "data": {
      "text/html": [
       "<div>\n",
       "<style scoped>\n",
       "    .dataframe tbody tr th:only-of-type {\n",
       "        vertical-align: middle;\n",
       "    }\n",
       "\n",
       "    .dataframe tbody tr th {\n",
       "        vertical-align: top;\n",
       "    }\n",
       "\n",
       "    .dataframe thead th {\n",
       "        text-align: right;\n",
       "    }\n",
       "</style>\n",
       "<table border=\"1\" class=\"dataframe\">\n",
       "  <thead>\n",
       "    <tr style=\"text-align: right;\">\n",
       "      <th></th>\n",
       "      <th>time</th>\n",
       "      <th>cpu</th>\n",
       "    </tr>\n",
       "  </thead>\n",
       "  <tbody>\n",
       "    <tr>\n",
       "      <th>480</th>\n",
       "      <td>2018-06-01 08:00:00</td>\n",
       "      <td>8.484965</td>\n",
       "    </tr>\n",
       "    <tr>\n",
       "      <th>481</th>\n",
       "      <td>2018-06-01 08:01:00</td>\n",
       "      <td>11.987440</td>\n",
       "    </tr>\n",
       "    <tr>\n",
       "      <th>482</th>\n",
       "      <td>2018-06-01 08:02:00</td>\n",
       "      <td>11.580900</td>\n",
       "    </tr>\n",
       "    <tr>\n",
       "      <th>483</th>\n",
       "      <td>2018-06-01 08:03:00</td>\n",
       "      <td>10.089251</td>\n",
       "    </tr>\n",
       "    <tr>\n",
       "      <th>484</th>\n",
       "      <td>2018-06-01 08:04:00</td>\n",
       "      <td>11.880549</td>\n",
       "    </tr>\n",
       "    <tr>\n",
       "      <th>485</th>\n",
       "      <td>2018-06-01 08:05:00</td>\n",
       "      <td>10.592793</td>\n",
       "    </tr>\n",
       "    <tr>\n",
       "      <th>486</th>\n",
       "      <td>2018-06-01 08:06:00</td>\n",
       "      <td>8.612875</td>\n",
       "    </tr>\n",
       "    <tr>\n",
       "      <th>487</th>\n",
       "      <td>2018-06-01 08:07:00</td>\n",
       "      <td>10.725521</td>\n",
       "    </tr>\n",
       "    <tr>\n",
       "      <th>488</th>\n",
       "      <td>2018-06-01 08:08:00</td>\n",
       "      <td>10.219840</td>\n",
       "    </tr>\n",
       "    <tr>\n",
       "      <th>489</th>\n",
       "      <td>2018-06-01 08:09:00</td>\n",
       "      <td>10.183937</td>\n",
       "    </tr>\n",
       "    <tr>\n",
       "      <th>490</th>\n",
       "      <td>2018-06-01 08:10:00</td>\n",
       "      <td>11.790666</td>\n",
       "    </tr>\n",
       "  </tbody>\n",
       "</table>\n",
       "</div>"
      ],
      "text/plain": [
       "                   time        cpu\n",
       "480 2018-06-01 08:00:00   8.484965\n",
       "481 2018-06-01 08:01:00  11.987440\n",
       "482 2018-06-01 08:02:00  11.580900\n",
       "483 2018-06-01 08:03:00  10.089251\n",
       "484 2018-06-01 08:04:00  11.880549\n",
       "485 2018-06-01 08:05:00  10.592793\n",
       "486 2018-06-01 08:06:00   8.612875\n",
       "487 2018-06-01 08:07:00  10.725521\n",
       "488 2018-06-01 08:08:00  10.219840\n",
       "489 2018-06-01 08:09:00  10.183937\n",
       "490 2018-06-01 08:10:00  11.790666"
      ]
     },
     "execution_count": 30,
     "metadata": {},
     "output_type": "execute_result"
    }
   ],
   "source": [
    "df[(df.time>='2018-06-01 08:00:00') & (df.time<='2018-06-01 08:10:00')]"
   ]
  },
  {
   "cell_type": "code",
   "execution_count": 31,
   "metadata": {},
   "outputs": [
    {
     "data": {
      "text/html": [
       "<div>\n",
       "<style scoped>\n",
       "    .dataframe tbody tr th:only-of-type {\n",
       "        vertical-align: middle;\n",
       "    }\n",
       "\n",
       "    .dataframe tbody tr th {\n",
       "        vertical-align: top;\n",
       "    }\n",
       "\n",
       "    .dataframe thead th {\n",
       "        text-align: right;\n",
       "    }\n",
       "</style>\n",
       "<table border=\"1\" class=\"dataframe\">\n",
       "  <thead>\n",
       "    <tr style=\"text-align: right;\">\n",
       "      <th></th>\n",
       "      <th>cpu</th>\n",
       "    </tr>\n",
       "    <tr>\n",
       "      <th>time</th>\n",
       "      <th></th>\n",
       "    </tr>\n",
       "  </thead>\n",
       "  <tbody>\n",
       "    <tr>\n",
       "      <th>2018-06-01 00:00:00</th>\n",
       "      <td>10.234498</td>\n",
       "    </tr>\n",
       "    <tr>\n",
       "      <th>2018-06-01 00:01:00</th>\n",
       "      <td>9.085277</td>\n",
       "    </tr>\n",
       "    <tr>\n",
       "      <th>2018-06-01 00:02:00</th>\n",
       "      <td>9.228946</td>\n",
       "    </tr>\n",
       "    <tr>\n",
       "      <th>2018-06-01 00:03:00</th>\n",
       "      <td>8.930009</td>\n",
       "    </tr>\n",
       "    <tr>\n",
       "      <th>2018-06-01 00:04:00</th>\n",
       "      <td>9.300112</td>\n",
       "    </tr>\n",
       "  </tbody>\n",
       "</table>\n",
       "</div>"
      ],
      "text/plain": [
       "                           cpu\n",
       "time                          \n",
       "2018-06-01 00:00:00  10.234498\n",
       "2018-06-01 00:01:00   9.085277\n",
       "2018-06-01 00:02:00   9.228946\n",
       "2018-06-01 00:03:00   8.930009\n",
       "2018-06-01 00:04:00   9.300112"
      ]
     },
     "execution_count": 31,
     "metadata": {},
     "output_type": "execute_result"
    }
   ],
   "source": [
    "df2 = df.set_index(\"time\")\n",
    "df2.head()"
   ]
  },
  {
   "cell_type": "code",
   "execution_count": 32,
   "metadata": {},
   "outputs": [],
   "source": [
    "s = pd.to_datetime(df.time)\n",
    "s\n",
    "df.index = s"
   ]
  },
  {
   "cell_type": "code",
   "execution_count": 33,
   "metadata": {},
   "outputs": [
    {
     "data": {
      "text/html": [
       "<div>\n",
       "<style scoped>\n",
       "    .dataframe tbody tr th:only-of-type {\n",
       "        vertical-align: middle;\n",
       "    }\n",
       "\n",
       "    .dataframe tbody tr th {\n",
       "        vertical-align: top;\n",
       "    }\n",
       "\n",
       "    .dataframe thead th {\n",
       "        text-align: right;\n",
       "    }\n",
       "</style>\n",
       "<table border=\"1\" class=\"dataframe\">\n",
       "  <thead>\n",
       "    <tr style=\"text-align: right;\">\n",
       "      <th></th>\n",
       "      <th>time</th>\n",
       "      <th>cpu</th>\n",
       "    </tr>\n",
       "    <tr>\n",
       "      <th>time</th>\n",
       "      <th></th>\n",
       "      <th></th>\n",
       "    </tr>\n",
       "  </thead>\n",
       "  <tbody>\n",
       "    <tr>\n",
       "      <th>2018-06-01 00:00:00</th>\n",
       "      <td>2018-06-01 00:00:00</td>\n",
       "      <td>10.234498</td>\n",
       "    </tr>\n",
       "    <tr>\n",
       "      <th>2018-06-01 00:01:00</th>\n",
       "      <td>2018-06-01 00:01:00</td>\n",
       "      <td>9.085277</td>\n",
       "    </tr>\n",
       "    <tr>\n",
       "      <th>2018-06-01 00:02:00</th>\n",
       "      <td>2018-06-01 00:02:00</td>\n",
       "      <td>9.228946</td>\n",
       "    </tr>\n",
       "    <tr>\n",
       "      <th>2018-06-01 00:03:00</th>\n",
       "      <td>2018-06-01 00:03:00</td>\n",
       "      <td>8.930009</td>\n",
       "    </tr>\n",
       "    <tr>\n",
       "      <th>2018-06-01 00:04:00</th>\n",
       "      <td>2018-06-01 00:04:00</td>\n",
       "      <td>9.300112</td>\n",
       "    </tr>\n",
       "  </tbody>\n",
       "</table>\n",
       "</div>"
      ],
      "text/plain": [
       "                                   time        cpu\n",
       "time                                              \n",
       "2018-06-01 00:00:00 2018-06-01 00:00:00  10.234498\n",
       "2018-06-01 00:01:00 2018-06-01 00:01:00   9.085277\n",
       "2018-06-01 00:02:00 2018-06-01 00:02:00   9.228946\n",
       "2018-06-01 00:03:00 2018-06-01 00:03:00   8.930009\n",
       "2018-06-01 00:04:00 2018-06-01 00:04:00   9.300112"
      ]
     },
     "execution_count": 33,
     "metadata": {},
     "output_type": "execute_result"
    }
   ],
   "source": [
    "df.head()"
   ]
  },
  {
   "cell_type": "code",
   "execution_count": 34,
   "metadata": {},
   "outputs": [
    {
     "data": {
      "text/html": [
       "<div>\n",
       "<style scoped>\n",
       "    .dataframe tbody tr th:only-of-type {\n",
       "        vertical-align: middle;\n",
       "    }\n",
       "\n",
       "    .dataframe tbody tr th {\n",
       "        vertical-align: top;\n",
       "    }\n",
       "\n",
       "    .dataframe thead th {\n",
       "        text-align: right;\n",
       "    }\n",
       "</style>\n",
       "<table border=\"1\" class=\"dataframe\">\n",
       "  <thead>\n",
       "    <tr style=\"text-align: right;\">\n",
       "      <th></th>\n",
       "      <th>cpu</th>\n",
       "    </tr>\n",
       "    <tr>\n",
       "      <th>time</th>\n",
       "      <th></th>\n",
       "    </tr>\n",
       "  </thead>\n",
       "  <tbody>\n",
       "    <tr>\n",
       "      <th>2018-06-01 00:00:00</th>\n",
       "      <td>10.234498</td>\n",
       "    </tr>\n",
       "    <tr>\n",
       "      <th>2018-06-01 00:01:00</th>\n",
       "      <td>9.085277</td>\n",
       "    </tr>\n",
       "    <tr>\n",
       "      <th>2018-06-01 00:02:00</th>\n",
       "      <td>9.228946</td>\n",
       "    </tr>\n",
       "    <tr>\n",
       "      <th>2018-06-01 00:03:00</th>\n",
       "      <td>8.930009</td>\n",
       "    </tr>\n",
       "    <tr>\n",
       "      <th>2018-06-01 00:04:00</th>\n",
       "      <td>9.300112</td>\n",
       "    </tr>\n",
       "  </tbody>\n",
       "</table>\n",
       "</div>"
      ],
      "text/plain": [
       "                           cpu\n",
       "time                          \n",
       "2018-06-01 00:00:00  10.234498\n",
       "2018-06-01 00:01:00   9.085277\n",
       "2018-06-01 00:02:00   9.228946\n",
       "2018-06-01 00:03:00   8.930009\n",
       "2018-06-01 00:04:00   9.300112"
      ]
     },
     "execution_count": 34,
     "metadata": {},
     "output_type": "execute_result"
    }
   ],
   "source": [
    "df = df.drop('time', axis=1)\n",
    "df.head()"
   ]
  },
  {
   "cell_type": "code",
   "execution_count": 35,
   "metadata": {},
   "outputs": [
    {
     "data": {
      "text/html": [
       "<div>\n",
       "<style scoped>\n",
       "    .dataframe tbody tr th:only-of-type {\n",
       "        vertical-align: middle;\n",
       "    }\n",
       "\n",
       "    .dataframe tbody tr th {\n",
       "        vertical-align: top;\n",
       "    }\n",
       "\n",
       "    .dataframe thead th {\n",
       "        text-align: right;\n",
       "    }\n",
       "</style>\n",
       "<table border=\"1\" class=\"dataframe\">\n",
       "  <thead>\n",
       "    <tr style=\"text-align: right;\">\n",
       "      <th></th>\n",
       "      <th>cpu</th>\n",
       "    </tr>\n",
       "    <tr>\n",
       "      <th>time</th>\n",
       "      <th></th>\n",
       "    </tr>\n",
       "  </thead>\n",
       "  <tbody>\n",
       "    <tr>\n",
       "      <th>2018-06-01 08:00:00</th>\n",
       "      <td>8.484965</td>\n",
       "    </tr>\n",
       "    <tr>\n",
       "      <th>2018-06-01 08:01:00</th>\n",
       "      <td>11.987440</td>\n",
       "    </tr>\n",
       "    <tr>\n",
       "      <th>2018-06-01 08:02:00</th>\n",
       "      <td>11.580900</td>\n",
       "    </tr>\n",
       "    <tr>\n",
       "      <th>2018-06-01 08:03:00</th>\n",
       "      <td>10.089251</td>\n",
       "    </tr>\n",
       "    <tr>\n",
       "      <th>2018-06-01 08:04:00</th>\n",
       "      <td>11.880549</td>\n",
       "    </tr>\n",
       "    <tr>\n",
       "      <th>2018-06-01 08:05:00</th>\n",
       "      <td>10.592793</td>\n",
       "    </tr>\n",
       "    <tr>\n",
       "      <th>2018-06-01 08:06:00</th>\n",
       "      <td>8.612875</td>\n",
       "    </tr>\n",
       "    <tr>\n",
       "      <th>2018-06-01 08:07:00</th>\n",
       "      <td>10.725521</td>\n",
       "    </tr>\n",
       "    <tr>\n",
       "      <th>2018-06-01 08:08:00</th>\n",
       "      <td>10.219840</td>\n",
       "    </tr>\n",
       "    <tr>\n",
       "      <th>2018-06-01 08:09:00</th>\n",
       "      <td>10.183937</td>\n",
       "    </tr>\n",
       "    <tr>\n",
       "      <th>2018-06-01 08:10:00</th>\n",
       "      <td>11.790666</td>\n",
       "    </tr>\n",
       "  </tbody>\n",
       "</table>\n",
       "</div>"
      ],
      "text/plain": [
       "                           cpu\n",
       "time                          \n",
       "2018-06-01 08:00:00   8.484965\n",
       "2018-06-01 08:01:00  11.987440\n",
       "2018-06-01 08:02:00  11.580900\n",
       "2018-06-01 08:03:00  10.089251\n",
       "2018-06-01 08:04:00  11.880549\n",
       "2018-06-01 08:05:00  10.592793\n",
       "2018-06-01 08:06:00   8.612875\n",
       "2018-06-01 08:07:00  10.725521\n",
       "2018-06-01 08:08:00  10.219840\n",
       "2018-06-01 08:09:00  10.183937\n",
       "2018-06-01 08:10:00  11.790666"
      ]
     },
     "execution_count": 35,
     "metadata": {},
     "output_type": "execute_result"
    }
   ],
   "source": [
    "df['2018-06-01 08:00:00':'2018-06-01 08:10:00']"
   ]
  },
  {
   "cell_type": "code",
   "execution_count": 37,
   "metadata": {},
   "outputs": [
    {
     "data": {
      "text/html": [
       "<div>\n",
       "<style scoped>\n",
       "    .dataframe tbody tr th:only-of-type {\n",
       "        vertical-align: middle;\n",
       "    }\n",
       "\n",
       "    .dataframe tbody tr th {\n",
       "        vertical-align: top;\n",
       "    }\n",
       "\n",
       "    .dataframe thead th {\n",
       "        text-align: right;\n",
       "    }\n",
       "</style>\n",
       "<table border=\"1\" class=\"dataframe\">\n",
       "  <thead>\n",
       "    <tr style=\"text-align: right;\">\n",
       "      <th></th>\n",
       "      <th>cpu</th>\n",
       "    </tr>\n",
       "    <tr>\n",
       "      <th>time</th>\n",
       "      <th></th>\n",
       "    </tr>\n",
       "  </thead>\n",
       "  <tbody>\n",
       "    <tr>\n",
       "      <th>2018-06-01 00:00:00</th>\n",
       "      <td>10.234498</td>\n",
       "    </tr>\n",
       "    <tr>\n",
       "      <th>2018-06-01 00:01:00</th>\n",
       "      <td>9.085277</td>\n",
       "    </tr>\n",
       "    <tr>\n",
       "      <th>2018-06-01 00:02:00</th>\n",
       "      <td>9.228946</td>\n",
       "    </tr>\n",
       "    <tr>\n",
       "      <th>2018-06-01 00:03:00</th>\n",
       "      <td>8.930009</td>\n",
       "    </tr>\n",
       "    <tr>\n",
       "      <th>2018-06-01 00:04:00</th>\n",
       "      <td>9.300112</td>\n",
       "    </tr>\n",
       "  </tbody>\n",
       "</table>\n",
       "</div>"
      ],
      "text/plain": [
       "                           cpu\n",
       "time                          \n",
       "2018-06-01 00:00:00  10.234498\n",
       "2018-06-01 00:01:00   9.085277\n",
       "2018-06-01 00:02:00   9.228946\n",
       "2018-06-01 00:03:00   8.930009\n",
       "2018-06-01 00:04:00   9.300112"
      ]
     },
     "execution_count": 37,
     "metadata": {},
     "output_type": "execute_result"
    }
   ],
   "source": [
    "df2 = df['2018-06-01']\n",
    "df2.head()"
   ]
  },
  {
   "cell_type": "code",
   "execution_count": 38,
   "metadata": {},
   "outputs": [
    {
     "data": {
      "text/html": [
       "<div>\n",
       "<style scoped>\n",
       "    .dataframe tbody tr th:only-of-type {\n",
       "        vertical-align: middle;\n",
       "    }\n",
       "\n",
       "    .dataframe tbody tr th {\n",
       "        vertical-align: top;\n",
       "    }\n",
       "\n",
       "    .dataframe thead th {\n",
       "        text-align: right;\n",
       "    }\n",
       "</style>\n",
       "<table border=\"1\" class=\"dataframe\">\n",
       "  <thead>\n",
       "    <tr style=\"text-align: right;\">\n",
       "      <th></th>\n",
       "      <th>cpu</th>\n",
       "    </tr>\n",
       "    <tr>\n",
       "      <th>time</th>\n",
       "      <th></th>\n",
       "    </tr>\n",
       "  </thead>\n",
       "  <tbody>\n",
       "    <tr>\n",
       "      <th>2018-06-01 23:55:00</th>\n",
       "      <td>9.613526</td>\n",
       "    </tr>\n",
       "    <tr>\n",
       "      <th>2018-06-01 23:56:00</th>\n",
       "      <td>8.795158</td>\n",
       "    </tr>\n",
       "    <tr>\n",
       "      <th>2018-06-01 23:57:00</th>\n",
       "      <td>8.634074</td>\n",
       "    </tr>\n",
       "    <tr>\n",
       "      <th>2018-06-01 23:58:00</th>\n",
       "      <td>9.271866</td>\n",
       "    </tr>\n",
       "    <tr>\n",
       "      <th>2018-06-01 23:59:00</th>\n",
       "      <td>10.990365</td>\n",
       "    </tr>\n",
       "  </tbody>\n",
       "</table>\n",
       "</div>"
      ],
      "text/plain": [
       "                           cpu\n",
       "time                          \n",
       "2018-06-01 23:55:00   9.613526\n",
       "2018-06-01 23:56:00   8.795158\n",
       "2018-06-01 23:57:00   8.634074\n",
       "2018-06-01 23:58:00   9.271866\n",
       "2018-06-01 23:59:00  10.990365"
      ]
     },
     "execution_count": 38,
     "metadata": {},
     "output_type": "execute_result"
    }
   ],
   "source": [
    "df2.tail()"
   ]
  },
  {
   "cell_type": "code",
   "execution_count": 39,
   "metadata": {},
   "outputs": [
    {
     "name": "stdout",
     "output_type": "stream",
     "text": [
      "                  cpu\n",
      "2018-06-01  10.022586\n",
      "2018-06-02   9.993910\n",
      "2018-06-03  10.000622\n",
      "2018-06-04   9.994342\n",
      "2018-06-05   9.986619\n",
      "                  cpu\n",
      "2018-10-13   9.982241\n",
      "2018-10-14  10.010855\n",
      "2018-10-15   9.981446\n",
      "2018-10-16   9.995610\n",
      "2018-10-17   9.980976\n"
     ]
    }
   ],
   "source": [
    "df2 = df.groupby(df.index.date).mean()\n",
    "print(df2.head())\n",
    "print(df2.tail())"
   ]
  },
  {
   "cell_type": "code",
   "execution_count": 40,
   "metadata": {},
   "outputs": [
    {
     "name": "stdout",
     "output_type": "stream",
     "text": [
      "            cpu\n",
      "time           \n",
      "0     10.002889\n",
      "1     10.001532\n",
      "2      9.998045\n",
      "3     10.008774\n",
      "4     10.006063\n",
      "            cpu\n",
      "time           \n",
      "19     9.998051\n",
      "20    10.008105\n",
      "21     9.999297\n",
      "22     9.995193\n",
      "23    10.009213\n"
     ]
    }
   ],
   "source": [
    "df2 = df.groupby(df.index.hour).mean()\n",
    "print(df2.head())\n",
    "print(df2.tail())"
   ]
  },
  {
   "cell_type": "code",
   "execution_count": 41,
   "metadata": {},
   "outputs": [
    {
     "name": "stdout",
     "output_type": "stream",
     "text": [
      "            cpu\n",
      "time           \n",
      "22    10.005706\n",
      "23    10.001763\n",
      "24    10.001388\n",
      "25    10.002179\n",
      "26     9.994339\n",
      "            cpu\n",
      "time           \n",
      "38    10.012342\n",
      "39    10.000801\n",
      "40     9.997181\n",
      "41     9.998583\n",
      "42     9.986204\n"
     ]
    }
   ],
   "source": [
    "df2 = df.groupby(df.index.week).mean()\n",
    "print(df2.head())\n",
    "print(df2.tail())"
   ]
  },
  {
   "cell_type": "code",
   "execution_count": 42,
   "metadata": {},
   "outputs": [],
   "source": [
    "df2 = df.resample('90S').mean() # 重新采样，以90秒"
   ]
  },
  {
   "cell_type": "code",
   "execution_count": 43,
   "metadata": {},
   "outputs": [
    {
     "data": {
      "text/html": [
       "<div>\n",
       "<style scoped>\n",
       "    .dataframe tbody tr th:only-of-type {\n",
       "        vertical-align: middle;\n",
       "    }\n",
       "\n",
       "    .dataframe tbody tr th {\n",
       "        vertical-align: top;\n",
       "    }\n",
       "\n",
       "    .dataframe thead th {\n",
       "        text-align: right;\n",
       "    }\n",
       "</style>\n",
       "<table border=\"1\" class=\"dataframe\">\n",
       "  <thead>\n",
       "    <tr style=\"text-align: right;\">\n",
       "      <th></th>\n",
       "      <th>cpu</th>\n",
       "    </tr>\n",
       "    <tr>\n",
       "      <th>time</th>\n",
       "      <th></th>\n",
       "    </tr>\n",
       "  </thead>\n",
       "  <tbody>\n",
       "    <tr>\n",
       "      <th>2018-06-01 00:00:00</th>\n",
       "      <td>9.659888</td>\n",
       "    </tr>\n",
       "    <tr>\n",
       "      <th>2018-06-01 00:01:30</th>\n",
       "      <td>9.228946</td>\n",
       "    </tr>\n",
       "    <tr>\n",
       "      <th>2018-06-01 00:03:00</th>\n",
       "      <td>9.115061</td>\n",
       "    </tr>\n",
       "    <tr>\n",
       "      <th>2018-06-01 00:04:30</th>\n",
       "      <td>10.276123</td>\n",
       "    </tr>\n",
       "    <tr>\n",
       "      <th>2018-06-01 00:06:00</th>\n",
       "      <td>9.143647</td>\n",
       "    </tr>\n",
       "  </tbody>\n",
       "</table>\n",
       "</div>"
      ],
      "text/plain": [
       "                           cpu\n",
       "time                          \n",
       "2018-06-01 00:00:00   9.659888\n",
       "2018-06-01 00:01:30   9.228946\n",
       "2018-06-01 00:03:00   9.115061\n",
       "2018-06-01 00:04:30  10.276123\n",
       "2018-06-01 00:06:00   9.143647"
      ]
     },
     "execution_count": 43,
     "metadata": {},
     "output_type": "execute_result"
    }
   ],
   "source": [
    "df2.head()"
   ]
  },
  {
   "cell_type": "code",
   "execution_count": 44,
   "metadata": {},
   "outputs": [
    {
     "data": {
      "text/html": [
       "<div>\n",
       "<style scoped>\n",
       "    .dataframe tbody tr th:only-of-type {\n",
       "        vertical-align: middle;\n",
       "    }\n",
       "\n",
       "    .dataframe tbody tr th {\n",
       "        vertical-align: top;\n",
       "    }\n",
       "\n",
       "    .dataframe thead th {\n",
       "        text-align: right;\n",
       "    }\n",
       "</style>\n",
       "<table border=\"1\" class=\"dataframe\">\n",
       "  <thead>\n",
       "    <tr style=\"text-align: right;\">\n",
       "      <th></th>\n",
       "      <th>cpu</th>\n",
       "    </tr>\n",
       "    <tr>\n",
       "      <th>time</th>\n",
       "      <th></th>\n",
       "    </tr>\n",
       "  </thead>\n",
       "  <tbody>\n",
       "    <tr>\n",
       "      <th>2018-06-01 00:00:00</th>\n",
       "      <td>10.234498</td>\n",
       "    </tr>\n",
       "    <tr>\n",
       "      <th>2018-06-01 00:05:00</th>\n",
       "      <td>11.025031</td>\n",
       "    </tr>\n",
       "    <tr>\n",
       "      <th>2018-06-01 00:10:00</th>\n",
       "      <td>11.955738</td>\n",
       "    </tr>\n",
       "    <tr>\n",
       "      <th>2018-06-01 00:15:00</th>\n",
       "      <td>11.791907</td>\n",
       "    </tr>\n",
       "    <tr>\n",
       "      <th>2018-06-01 00:20:00</th>\n",
       "      <td>11.610492</td>\n",
       "    </tr>\n",
       "  </tbody>\n",
       "</table>\n",
       "</div>"
      ],
      "text/plain": [
       "                           cpu\n",
       "time                          \n",
       "2018-06-01 00:00:00  10.234498\n",
       "2018-06-01 00:05:00  11.025031\n",
       "2018-06-01 00:10:00  11.955738\n",
       "2018-06-01 00:15:00  11.791907\n",
       "2018-06-01 00:20:00  11.610492"
      ]
     },
     "execution_count": 44,
     "metadata": {},
     "output_type": "execute_result"
    }
   ],
   "source": [
    "df2 = df.resample('5T').max() # 以5分钟为单位重新采样\n",
    "df2.head()"
   ]
  },
  {
   "cell_type": "code",
   "execution_count": null,
   "metadata": {},
   "outputs": [],
   "source": []
  }
 ],
 "metadata": {
  "kernelspec": {
   "display_name": "Python 3",
   "language": "python",
   "name": "python3"
  },
  "language_info": {
   "codemirror_mode": {
    "name": "ipython",
    "version": 3
   },
   "file_extension": ".py",
   "mimetype": "text/x-python",
   "name": "python",
   "nbconvert_exporter": "python",
   "pygments_lexer": "ipython3",
   "version": "3.5.2"
  }
 },
 "nbformat": 4,
 "nbformat_minor": 2
}
